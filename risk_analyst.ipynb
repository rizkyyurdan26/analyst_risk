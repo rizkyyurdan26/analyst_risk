{
 "cells": [
  {
   "cell_type": "code",
   "execution_count": 1,
   "metadata": {},
   "outputs": [],
   "source": [
    "import pandas as pd\n",
    "import numpy as np\n",
    "import sklearn\n",
    "\n",
    "import os\n",
    "\n",
    "import warnings\n",
    "warnings.filterwarnings('ignore')\n",
    "\n"
   ]
  },
  {
   "cell_type": "code",
   "execution_count": 2,
   "metadata": {},
   "outputs": [
    {
     "data": {
      "text/plain": [
       "'e:\\\\risk_model\\\\code'"
      ]
     },
     "execution_count": 2,
     "metadata": {},
     "output_type": "execute_result"
    }
   ],
   "source": [
    "os.getcwd()"
   ]
  },
  {
   "cell_type": "code",
   "execution_count": 3,
   "metadata": {},
   "outputs": [
    {
     "data": {
      "text/plain": [
       "['dataset.txt', 'lc_2016_2017.csv', 'lc_loan.csv']"
      ]
     },
     "execution_count": 3,
     "metadata": {},
     "output_type": "execute_result"
    }
   ],
   "source": [
    "os.listdir(\"../dataset\")"
   ]
  },
  {
   "cell_type": "code",
   "execution_count": 4,
   "metadata": {},
   "outputs": [
    {
     "data": {
      "text/html": [
       "<div>\n",
       "<style scoped>\n",
       "    .dataframe tbody tr th:only-of-type {\n",
       "        vertical-align: middle;\n",
       "    }\n",
       "\n",
       "    .dataframe tbody tr th {\n",
       "        vertical-align: top;\n",
       "    }\n",
       "\n",
       "    .dataframe thead th {\n",
       "        text-align: right;\n",
       "    }\n",
       "</style>\n",
       "<table border=\"1\" class=\"dataframe\">\n",
       "  <thead>\n",
       "    <tr style=\"text-align: right;\">\n",
       "      <th></th>\n",
       "      <th>id</th>\n",
       "      <th>member_id</th>\n",
       "      <th>loan_amnt</th>\n",
       "      <th>funded_amnt</th>\n",
       "      <th>funded_amnt_inv</th>\n",
       "      <th>term</th>\n",
       "      <th>int_rate</th>\n",
       "      <th>installment</th>\n",
       "      <th>grade</th>\n",
       "      <th>sub_grade</th>\n",
       "      <th>...</th>\n",
       "      <th>total_bal_il</th>\n",
       "      <th>il_util</th>\n",
       "      <th>open_rv_12m</th>\n",
       "      <th>open_rv_24m</th>\n",
       "      <th>max_bal_bc</th>\n",
       "      <th>all_util</th>\n",
       "      <th>total_rev_hi_lim</th>\n",
       "      <th>inq_fi</th>\n",
       "      <th>total_cu_tl</th>\n",
       "      <th>inq_last_12m</th>\n",
       "    </tr>\n",
       "  </thead>\n",
       "  <tbody>\n",
       "    <tr>\n",
       "      <th>0</th>\n",
       "      <td>112435993</td>\n",
       "      <td>NaN</td>\n",
       "      <td>2300</td>\n",
       "      <td>2300</td>\n",
       "      <td>2300.0</td>\n",
       "      <td>36 months</td>\n",
       "      <td>12.62</td>\n",
       "      <td>77.08</td>\n",
       "      <td>C</td>\n",
       "      <td>C1</td>\n",
       "      <td>...</td>\n",
       "      <td>0.0</td>\n",
       "      <td>NaN</td>\n",
       "      <td>1.0</td>\n",
       "      <td>2.0</td>\n",
       "      <td>2315.0</td>\n",
       "      <td>55.0</td>\n",
       "      <td>7100.0</td>\n",
       "      <td>1.0</td>\n",
       "      <td>0.0</td>\n",
       "      <td>2.0</td>\n",
       "    </tr>\n",
       "    <tr>\n",
       "      <th>1</th>\n",
       "      <td>112290210</td>\n",
       "      <td>NaN</td>\n",
       "      <td>16000</td>\n",
       "      <td>16000</td>\n",
       "      <td>16000.0</td>\n",
       "      <td>60 months</td>\n",
       "      <td>12.62</td>\n",
       "      <td>360.95</td>\n",
       "      <td>C</td>\n",
       "      <td>C1</td>\n",
       "      <td>...</td>\n",
       "      <td>11078.0</td>\n",
       "      <td>69.0</td>\n",
       "      <td>3.0</td>\n",
       "      <td>5.0</td>\n",
       "      <td>1962.0</td>\n",
       "      <td>94.0</td>\n",
       "      <td>31900.0</td>\n",
       "      <td>0.0</td>\n",
       "      <td>6.0</td>\n",
       "      <td>1.0</td>\n",
       "    </tr>\n",
       "    <tr>\n",
       "      <th>2</th>\n",
       "      <td>112436985</td>\n",
       "      <td>NaN</td>\n",
       "      <td>6025</td>\n",
       "      <td>6025</td>\n",
       "      <td>6025.0</td>\n",
       "      <td>36 months</td>\n",
       "      <td>15.05</td>\n",
       "      <td>209.01</td>\n",
       "      <td>C</td>\n",
       "      <td>C4</td>\n",
       "      <td>...</td>\n",
       "      <td>0.0</td>\n",
       "      <td>NaN</td>\n",
       "      <td>1.0</td>\n",
       "      <td>2.0</td>\n",
       "      <td>1950.0</td>\n",
       "      <td>45.0</td>\n",
       "      <td>27700.0</td>\n",
       "      <td>1.0</td>\n",
       "      <td>5.0</td>\n",
       "      <td>3.0</td>\n",
       "    </tr>\n",
       "    <tr>\n",
       "      <th>3</th>\n",
       "      <td>112439006</td>\n",
       "      <td>NaN</td>\n",
       "      <td>20400</td>\n",
       "      <td>20400</td>\n",
       "      <td>20400.0</td>\n",
       "      <td>36 months</td>\n",
       "      <td>9.44</td>\n",
       "      <td>652.91</td>\n",
       "      <td>B</td>\n",
       "      <td>B1</td>\n",
       "      <td>...</td>\n",
       "      <td>53566.0</td>\n",
       "      <td>95.0</td>\n",
       "      <td>1.0</td>\n",
       "      <td>2.0</td>\n",
       "      <td>4240.0</td>\n",
       "      <td>60.0</td>\n",
       "      <td>46900.0</td>\n",
       "      <td>1.0</td>\n",
       "      <td>1.0</td>\n",
       "      <td>1.0</td>\n",
       "    </tr>\n",
       "    <tr>\n",
       "      <th>4</th>\n",
       "      <td>112438929</td>\n",
       "      <td>NaN</td>\n",
       "      <td>13000</td>\n",
       "      <td>13000</td>\n",
       "      <td>13000.0</td>\n",
       "      <td>36 months</td>\n",
       "      <td>11.99</td>\n",
       "      <td>431.73</td>\n",
       "      <td>B</td>\n",
       "      <td>B5</td>\n",
       "      <td>...</td>\n",
       "      <td>8466.0</td>\n",
       "      <td>72.0</td>\n",
       "      <td>0.0</td>\n",
       "      <td>1.0</td>\n",
       "      <td>2996.0</td>\n",
       "      <td>78.0</td>\n",
       "      <td>7800.0</td>\n",
       "      <td>0.0</td>\n",
       "      <td>0.0</td>\n",
       "      <td>0.0</td>\n",
       "    </tr>\n",
       "  </tbody>\n",
       "</table>\n",
       "<p>5 rows × 72 columns</p>\n",
       "</div>"
      ],
      "text/plain": [
       "          id  member_id  loan_amnt  funded_amnt  funded_amnt_inv       term  \\\n",
       "0  112435993        NaN       2300         2300           2300.0  36 months   \n",
       "1  112290210        NaN      16000        16000          16000.0  60 months   \n",
       "2  112436985        NaN       6025         6025           6025.0  36 months   \n",
       "3  112439006        NaN      20400        20400          20400.0  36 months   \n",
       "4  112438929        NaN      13000        13000          13000.0  36 months   \n",
       "\n",
       "   int_rate  installment grade sub_grade  ... total_bal_il il_util  \\\n",
       "0     12.62        77.08     C        C1  ...          0.0     NaN   \n",
       "1     12.62       360.95     C        C1  ...      11078.0    69.0   \n",
       "2     15.05       209.01     C        C4  ...          0.0     NaN   \n",
       "3      9.44       652.91     B        B1  ...      53566.0    95.0   \n",
       "4     11.99       431.73     B        B5  ...       8466.0    72.0   \n",
       "\n",
       "  open_rv_12m  open_rv_24m max_bal_bc all_util total_rev_hi_lim inq_fi  \\\n",
       "0         1.0          2.0     2315.0     55.0           7100.0    1.0   \n",
       "1         3.0          5.0     1962.0     94.0          31900.0    0.0   \n",
       "2         1.0          2.0     1950.0     45.0          27700.0    1.0   \n",
       "3         1.0          2.0     4240.0     60.0          46900.0    1.0   \n",
       "4         0.0          1.0     2996.0     78.0           7800.0    0.0   \n",
       "\n",
       "  total_cu_tl inq_last_12m  \n",
       "0         0.0          2.0  \n",
       "1         6.0          1.0  \n",
       "2         5.0          3.0  \n",
       "3         1.0          1.0  \n",
       "4         0.0          0.0  \n",
       "\n",
       "[5 rows x 72 columns]"
      ]
     },
     "execution_count": 4,
     "metadata": {},
     "output_type": "execute_result"
    }
   ],
   "source": [
    "loan_data = pd.read_csv('../dataset/lc_2016_2017.csv')\n",
    "loan_data.head()"
   ]
  },
  {
   "cell_type": "code",
   "execution_count": 5,
   "metadata": {},
   "outputs": [
    {
     "data": {
      "text/plain": [
       "(759338, 72)"
      ]
     },
     "execution_count": 5,
     "metadata": {},
     "output_type": "execute_result"
    }
   ],
   "source": [
    "loan_data.shape"
   ]
  },
  {
   "cell_type": "code",
   "execution_count": 6,
   "metadata": {},
   "outputs": [
    {
     "name": "stdout",
     "output_type": "stream",
     "text": [
      "<class 'pandas.core.frame.DataFrame'>\n",
      "RangeIndex: 759338 entries, 0 to 759337\n",
      "Data columns (total 72 columns):\n",
      " #   Column                       Non-Null Count   Dtype  \n",
      "---  ------                       --------------   -----  \n",
      " 0   id                           759338 non-null  int64  \n",
      " 1   member_id                    0 non-null       float64\n",
      " 2   loan_amnt                    759338 non-null  int64  \n",
      " 3   funded_amnt                  759338 non-null  int64  \n",
      " 4   funded_amnt_inv              759338 non-null  float64\n",
      " 5   term                         759338 non-null  object \n",
      " 6   int_rate                     759338 non-null  float64\n",
      " 7   installment                  759338 non-null  float64\n",
      " 8   grade                        759338 non-null  object \n",
      " 9   sub_grade                    759338 non-null  object \n",
      " 10  emp_title                    708368 non-null  object \n",
      " 11  emp_length                   708975 non-null  object \n",
      " 12  home_ownership               759338 non-null  object \n",
      " 13  annual_inc                   759338 non-null  float64\n",
      " 14  verification_status          759338 non-null  object \n",
      " 15  issue_d                      759338 non-null  object \n",
      " 16  loan_status                  759338 non-null  object \n",
      " 17  pymnt_plan                   759338 non-null  object \n",
      " 18  desc                         17 non-null      object \n",
      " 19  purpose                      759338 non-null  object \n",
      " 20  title                        736165 non-null  object \n",
      " 21  zip_code                     759337 non-null  object \n",
      " 22  addr_state                   759338 non-null  object \n",
      " 23  dti                          758983 non-null  float64\n",
      " 24  delinq_2yrs                  759338 non-null  int64  \n",
      " 25  earliest_cr_line             759338 non-null  object \n",
      " 26  inq_last_6mths               759337 non-null  float64\n",
      " 27  mths_since_last_delinq       396633 non-null  float64\n",
      " 28  mths_since_last_record       141179 non-null  float64\n",
      " 29  open_acc                     759338 non-null  int64  \n",
      " 30  pub_rec                      759338 non-null  int64  \n",
      " 31  revol_bal                    759338 non-null  float64\n",
      " 32  revol_util                   758821 non-null  float64\n",
      " 33  total_acc                    759338 non-null  int64  \n",
      " 34  initial_list_status          759338 non-null  object \n",
      " 35  out_prncp                    759338 non-null  float64\n",
      " 36  out_prncp_inv                759338 non-null  float64\n",
      " 37  total_pymnt                  759338 non-null  float64\n",
      " 38  total_pymnt_inv              759338 non-null  float64\n",
      " 39  total_rec_prncp              759338 non-null  float64\n",
      " 40  total_rec_int                759338 non-null  float64\n",
      " 41  total_rec_late_fee           759338 non-null  float64\n",
      " 42  recoveries                   759338 non-null  float64\n",
      " 43  collection_recovery_fee      759338 non-null  float64\n",
      " 44  last_pymnt_d                 758390 non-null  object \n",
      " 45  last_pymnt_amnt              759338 non-null  float64\n",
      " 46  next_pymnt_d                 591423 non-null  object \n",
      " 47  last_credit_pull_d           759320 non-null  object \n",
      " 48  collections_12_mths_ex_med   759338 non-null  int64  \n",
      " 49  mths_since_last_major_derog  215105 non-null  float64\n",
      " 50  policy_code                  759338 non-null  int64  \n",
      " 51  application_type             759338 non-null  object \n",
      " 52  annual_inc_joint             34003 non-null   float64\n",
      " 53  dti_joint                    34001 non-null   float64\n",
      " 54  verification_status_joint    34003 non-null   object \n",
      " 55  acc_now_delinq               759338 non-null  int64  \n",
      " 56  tot_coll_amt                 759338 non-null  float64\n",
      " 57  tot_cur_bal                  759338 non-null  float64\n",
      " 58  open_acc_6m                  759276 non-null  float64\n",
      " 59  open_il_12m                  759277 non-null  float64\n",
      " 60  open_il_24m                  759277 non-null  float64\n",
      " 61  mths_since_rcnt_il           738795 non-null  float64\n",
      " 62  total_bal_il                 759277 non-null  float64\n",
      " 63  il_util                      658743 non-null  float64\n",
      " 64  open_rv_12m                  759277 non-null  float64\n",
      " 65  open_rv_24m                  759277 non-null  float64\n",
      " 66  max_bal_bc                   759277 non-null  float64\n",
      " 67  all_util                     759224 non-null  float64\n",
      " 68  total_rev_hi_lim             759338 non-null  float64\n",
      " 69  inq_fi                       759277 non-null  float64\n",
      " 70  total_cu_tl                  759276 non-null  float64\n",
      " 71  inq_last_12m                 759276 non-null  float64\n",
      "dtypes: float64(40), int64(10), object(22)\n",
      "memory usage: 417.1+ MB\n"
     ]
    }
   ],
   "source": [
    "loan_data.info()"
   ]
  },
  {
   "cell_type": "markdown",
   "metadata": {},
   "source": [
    "### Use load_status as target variable"
   ]
  },
  {
   "cell_type": "code",
   "execution_count": 7,
   "metadata": {},
   "outputs": [
    {
     "data": {
      "text/plain": [
       "array(['Current', 'Fully Paid', 'In Grace Period', 'Late (31-120 days)',\n",
       "       'Late (16-30 days)', 'Charged Off', 'Default'], dtype=object)"
      ]
     },
     "execution_count": 7,
     "metadata": {},
     "output_type": "execute_result"
    }
   ],
   "source": [
    "loan_data.loan_status.unique()"
   ]
  },
  {
   "cell_type": "code",
   "execution_count": 8,
   "metadata": {},
   "outputs": [],
   "source": [
    "loan_data['good_bad'] = np.where(loan_data.loc[:, 'loan_status'].isin(['Change_off', \"Defaul\", \"Late (31-120 days)\", \"Late (16-30 days)\"]), 1,0)"
   ]
  },
  {
   "cell_type": "code",
   "execution_count": 9,
   "metadata": {},
   "outputs": [
    {
     "data": {
      "text/plain": [
       "good_bad\n",
       "0    740108\n",
       "1     19230\n",
       "Name: count, dtype: int64"
      ]
     },
     "execution_count": 9,
     "metadata": {},
     "output_type": "execute_result"
    }
   ],
   "source": [
    "loan_data.good_bad.value_counts()"
   ]
  },
  {
   "cell_type": "code",
   "execution_count": 10,
   "metadata": {},
   "outputs": [
    {
     "data": {
      "text/html": [
       "<div>\n",
       "<style scoped>\n",
       "    .dataframe tbody tr th:only-of-type {\n",
       "        vertical-align: middle;\n",
       "    }\n",
       "\n",
       "    .dataframe tbody tr th {\n",
       "        vertical-align: top;\n",
       "    }\n",
       "\n",
       "    .dataframe thead th {\n",
       "        text-align: right;\n",
       "    }\n",
       "</style>\n",
       "<table border=\"1\" class=\"dataframe\">\n",
       "  <thead>\n",
       "    <tr style=\"text-align: right;\">\n",
       "      <th></th>\n",
       "      <th>loan_status</th>\n",
       "      <th>good_bad</th>\n",
       "    </tr>\n",
       "  </thead>\n",
       "  <tbody>\n",
       "    <tr>\n",
       "      <th>0</th>\n",
       "      <td>Current</td>\n",
       "      <td>0</td>\n",
       "    </tr>\n",
       "    <tr>\n",
       "      <th>1</th>\n",
       "      <td>Current</td>\n",
       "      <td>0</td>\n",
       "    </tr>\n",
       "    <tr>\n",
       "      <th>2</th>\n",
       "      <td>Current</td>\n",
       "      <td>0</td>\n",
       "    </tr>\n",
       "    <tr>\n",
       "      <th>3</th>\n",
       "      <td>Current</td>\n",
       "      <td>0</td>\n",
       "    </tr>\n",
       "    <tr>\n",
       "      <th>4</th>\n",
       "      <td>Current</td>\n",
       "      <td>0</td>\n",
       "    </tr>\n",
       "    <tr>\n",
       "      <th>...</th>\n",
       "      <td>...</td>\n",
       "      <td>...</td>\n",
       "    </tr>\n",
       "    <tr>\n",
       "      <th>759333</th>\n",
       "      <td>Current</td>\n",
       "      <td>0</td>\n",
       "    </tr>\n",
       "    <tr>\n",
       "      <th>759334</th>\n",
       "      <td>Current</td>\n",
       "      <td>0</td>\n",
       "    </tr>\n",
       "    <tr>\n",
       "      <th>759335</th>\n",
       "      <td>Late (16-30 days)</td>\n",
       "      <td>1</td>\n",
       "    </tr>\n",
       "    <tr>\n",
       "      <th>759336</th>\n",
       "      <td>Current</td>\n",
       "      <td>0</td>\n",
       "    </tr>\n",
       "    <tr>\n",
       "      <th>759337</th>\n",
       "      <td>Current</td>\n",
       "      <td>0</td>\n",
       "    </tr>\n",
       "  </tbody>\n",
       "</table>\n",
       "<p>759338 rows × 2 columns</p>\n",
       "</div>"
      ],
      "text/plain": [
       "              loan_status  good_bad\n",
       "0                 Current         0\n",
       "1                 Current         0\n",
       "2                 Current         0\n",
       "3                 Current         0\n",
       "4                 Current         0\n",
       "...                   ...       ...\n",
       "759333            Current         0\n",
       "759334            Current         0\n",
       "759335  Late (16-30 days)         1\n",
       "759336            Current         0\n",
       "759337            Current         0\n",
       "\n",
       "[759338 rows x 2 columns]"
      ]
     },
     "execution_count": 10,
     "metadata": {},
     "output_type": "execute_result"
    }
   ],
   "source": [
    "df = loan_data[[\"loan_status\", \"good_bad\"]]\n",
    "\n",
    "df"
   ]
  },
  {
   "cell_type": "markdown",
   "metadata": {},
   "source": [
    "### Mising Values Checked"
   ]
  },
  {
   "cell_type": "code",
   "execution_count": 11,
   "metadata": {},
   "outputs": [
    {
     "data": {
      "text/html": [
       "<div>\n",
       "<style scoped>\n",
       "    .dataframe tbody tr th:only-of-type {\n",
       "        vertical-align: middle;\n",
       "    }\n",
       "\n",
       "    .dataframe tbody tr th {\n",
       "        vertical-align: top;\n",
       "    }\n",
       "\n",
       "    .dataframe thead th {\n",
       "        text-align: right;\n",
       "    }\n",
       "</style>\n",
       "<table border=\"1\" class=\"dataframe\">\n",
       "  <thead>\n",
       "    <tr style=\"text-align: right;\">\n",
       "      <th></th>\n",
       "      <th>0</th>\n",
       "    </tr>\n",
       "  </thead>\n",
       "  <tbody>\n",
       "    <tr>\n",
       "      <th>id</th>\n",
       "      <td>0.000000</td>\n",
       "    </tr>\n",
       "    <tr>\n",
       "      <th>member_id</th>\n",
       "      <td>1.000000</td>\n",
       "    </tr>\n",
       "    <tr>\n",
       "      <th>loan_amnt</th>\n",
       "      <td>0.000000</td>\n",
       "    </tr>\n",
       "    <tr>\n",
       "      <th>funded_amnt</th>\n",
       "      <td>0.000000</td>\n",
       "    </tr>\n",
       "    <tr>\n",
       "      <th>funded_amnt_inv</th>\n",
       "      <td>0.000000</td>\n",
       "    </tr>\n",
       "    <tr>\n",
       "      <th>...</th>\n",
       "      <td>...</td>\n",
       "    </tr>\n",
       "    <tr>\n",
       "      <th>total_rev_hi_lim</th>\n",
       "      <td>0.000000</td>\n",
       "    </tr>\n",
       "    <tr>\n",
       "      <th>inq_fi</th>\n",
       "      <td>0.000080</td>\n",
       "    </tr>\n",
       "    <tr>\n",
       "      <th>total_cu_tl</th>\n",
       "      <td>0.000082</td>\n",
       "    </tr>\n",
       "    <tr>\n",
       "      <th>inq_last_12m</th>\n",
       "      <td>0.000082</td>\n",
       "    </tr>\n",
       "    <tr>\n",
       "      <th>good_bad</th>\n",
       "      <td>0.000000</td>\n",
       "    </tr>\n",
       "  </tbody>\n",
       "</table>\n",
       "<p>73 rows × 1 columns</p>\n",
       "</div>"
      ],
      "text/plain": [
       "                         0\n",
       "id                0.000000\n",
       "member_id         1.000000\n",
       "loan_amnt         0.000000\n",
       "funded_amnt       0.000000\n",
       "funded_amnt_inv   0.000000\n",
       "...                    ...\n",
       "total_rev_hi_lim  0.000000\n",
       "inq_fi            0.000080\n",
       "total_cu_tl       0.000082\n",
       "inq_last_12m      0.000082\n",
       "good_bad          0.000000\n",
       "\n",
       "[73 rows x 1 columns]"
      ]
     },
     "execution_count": 11,
     "metadata": {},
     "output_type": "execute_result"
    }
   ],
   "source": [
    "missing_values = pd.DataFrame(loan_data.isnull().sum() / loan_data.shape[0])\n",
    "\n",
    "missing_values"
   ]
  },
  {
   "cell_type": "markdown",
   "metadata": {},
   "source": [
    "check for >50% missing values"
   ]
  },
  {
   "cell_type": "code",
   "execution_count": 12,
   "metadata": {},
   "outputs": [
    {
     "data": {
      "text/html": [
       "<div>\n",
       "<style scoped>\n",
       "    .dataframe tbody tr th:only-of-type {\n",
       "        vertical-align: middle;\n",
       "    }\n",
       "\n",
       "    .dataframe tbody tr th {\n",
       "        vertical-align: top;\n",
       "    }\n",
       "\n",
       "    .dataframe thead th {\n",
       "        text-align: right;\n",
       "    }\n",
       "</style>\n",
       "<table border=\"1\" class=\"dataframe\">\n",
       "  <thead>\n",
       "    <tr style=\"text-align: right;\">\n",
       "      <th></th>\n",
       "      <th>0</th>\n",
       "    </tr>\n",
       "  </thead>\n",
       "  <tbody>\n",
       "    <tr>\n",
       "      <th>member_id</th>\n",
       "      <td>1.000000</td>\n",
       "    </tr>\n",
       "    <tr>\n",
       "      <th>desc</th>\n",
       "      <td>0.999978</td>\n",
       "    </tr>\n",
       "    <tr>\n",
       "      <th>dti_joint</th>\n",
       "      <td>0.955223</td>\n",
       "    </tr>\n",
       "    <tr>\n",
       "      <th>annual_inc_joint</th>\n",
       "      <td>0.955220</td>\n",
       "    </tr>\n",
       "    <tr>\n",
       "      <th>verification_status_joint</th>\n",
       "      <td>0.955220</td>\n",
       "    </tr>\n",
       "    <tr>\n",
       "      <th>mths_since_last_record</th>\n",
       "      <td>0.814076</td>\n",
       "    </tr>\n",
       "    <tr>\n",
       "      <th>mths_since_last_major_derog</th>\n",
       "      <td>0.716720</td>\n",
       "    </tr>\n",
       "  </tbody>\n",
       "</table>\n",
       "</div>"
      ],
      "text/plain": [
       "                                    0\n",
       "member_id                    1.000000\n",
       "desc                         0.999978\n",
       "dti_joint                    0.955223\n",
       "annual_inc_joint             0.955220\n",
       "verification_status_joint    0.955220\n",
       "mths_since_last_record       0.814076\n",
       "mths_since_last_major_derog  0.716720"
      ]
     },
     "execution_count": 12,
     "metadata": {},
     "output_type": "execute_result"
    }
   ],
   "source": [
    "missing_values = missing_values[missing_values.iloc[:, 0]>0.50]\n",
    "\n",
    "missing_values.sort_values([0], ascending=False)"
   ]
  },
  {
   "cell_type": "code",
   "execution_count": 13,
   "metadata": {},
   "outputs": [],
   "source": [
    "#removed missing values > 50%\n",
    "\n",
    "loan_data.dropna(thresh=loan_data.shape[0]*0.5, axis=1, inplace=True)\n"
   ]
  },
  {
   "cell_type": "code",
   "execution_count": 14,
   "metadata": {},
   "outputs": [
    {
     "data": {
      "text/html": [
       "<div>\n",
       "<style scoped>\n",
       "    .dataframe tbody tr th:only-of-type {\n",
       "        vertical-align: middle;\n",
       "    }\n",
       "\n",
       "    .dataframe tbody tr th {\n",
       "        vertical-align: top;\n",
       "    }\n",
       "\n",
       "    .dataframe thead th {\n",
       "        text-align: right;\n",
       "    }\n",
       "</style>\n",
       "<table border=\"1\" class=\"dataframe\">\n",
       "  <thead>\n",
       "    <tr style=\"text-align: right;\">\n",
       "      <th></th>\n",
       "      <th>0</th>\n",
       "    </tr>\n",
       "  </thead>\n",
       "  <tbody>\n",
       "    <tr>\n",
       "      <th>id</th>\n",
       "      <td>0.000000</td>\n",
       "    </tr>\n",
       "    <tr>\n",
       "      <th>loan_amnt</th>\n",
       "      <td>0.000000</td>\n",
       "    </tr>\n",
       "    <tr>\n",
       "      <th>funded_amnt</th>\n",
       "      <td>0.000000</td>\n",
       "    </tr>\n",
       "    <tr>\n",
       "      <th>funded_amnt_inv</th>\n",
       "      <td>0.000000</td>\n",
       "    </tr>\n",
       "    <tr>\n",
       "      <th>term</th>\n",
       "      <td>0.000000</td>\n",
       "    </tr>\n",
       "    <tr>\n",
       "      <th>...</th>\n",
       "      <td>...</td>\n",
       "    </tr>\n",
       "    <tr>\n",
       "      <th>total_rev_hi_lim</th>\n",
       "      <td>0.000000</td>\n",
       "    </tr>\n",
       "    <tr>\n",
       "      <th>inq_fi</th>\n",
       "      <td>0.000080</td>\n",
       "    </tr>\n",
       "    <tr>\n",
       "      <th>total_cu_tl</th>\n",
       "      <td>0.000082</td>\n",
       "    </tr>\n",
       "    <tr>\n",
       "      <th>inq_last_12m</th>\n",
       "      <td>0.000082</td>\n",
       "    </tr>\n",
       "    <tr>\n",
       "      <th>good_bad</th>\n",
       "      <td>0.000000</td>\n",
       "    </tr>\n",
       "  </tbody>\n",
       "</table>\n",
       "<p>66 rows × 1 columns</p>\n",
       "</div>"
      ],
      "text/plain": [
       "                         0\n",
       "id                0.000000\n",
       "loan_amnt         0.000000\n",
       "funded_amnt       0.000000\n",
       "funded_amnt_inv   0.000000\n",
       "term              0.000000\n",
       "...                    ...\n",
       "total_rev_hi_lim  0.000000\n",
       "inq_fi            0.000080\n",
       "total_cu_tl       0.000082\n",
       "inq_last_12m      0.000082\n",
       "good_bad          0.000000\n",
       "\n",
       "[66 rows x 1 columns]"
      ]
     },
     "execution_count": 14,
     "metadata": {},
     "output_type": "execute_result"
    }
   ],
   "source": [
    "missing_values = pd.DataFrame(loan_data.isnull().sum() / loan_data.shape[0])\n",
    "\n",
    "missing_values"
   ]
  },
  {
   "cell_type": "code",
   "execution_count": 15,
   "metadata": {},
   "outputs": [
    {
     "data": {
      "text/html": [
       "<div>\n",
       "<style scoped>\n",
       "    .dataframe tbody tr th:only-of-type {\n",
       "        vertical-align: middle;\n",
       "    }\n",
       "\n",
       "    .dataframe tbody tr th {\n",
       "        vertical-align: top;\n",
       "    }\n",
       "\n",
       "    .dataframe thead th {\n",
       "        text-align: right;\n",
       "    }\n",
       "</style>\n",
       "<table border=\"1\" class=\"dataframe\">\n",
       "  <thead>\n",
       "    <tr style=\"text-align: right;\">\n",
       "      <th></th>\n",
       "      <th>0</th>\n",
       "    </tr>\n",
       "  </thead>\n",
       "  <tbody>\n",
       "  </tbody>\n",
       "</table>\n",
       "</div>"
      ],
      "text/plain": [
       "Empty DataFrame\n",
       "Columns: [0]\n",
       "Index: []"
      ]
     },
     "execution_count": 15,
     "metadata": {},
     "output_type": "execute_result"
    }
   ],
   "source": [
    "missing_values = missing_values[missing_values.iloc[:, 0]>0.50]\n",
    "\n",
    "missing_values.sort_values([0], ascending=False)"
   ]
  },
  {
   "cell_type": "markdown",
   "metadata": {},
   "source": [
    "### Data Splitting (Train & Test)"
   ]
  },
  {
   "cell_type": "code",
   "execution_count": 16,
   "metadata": {},
   "outputs": [
    {
     "data": {
      "text/plain": [
       "(759338, 66)"
      ]
     },
     "execution_count": 16,
     "metadata": {},
     "output_type": "execute_result"
    }
   ],
   "source": [
    "loan_data.shape"
   ]
  },
  {
   "cell_type": "code",
   "execution_count": 17,
   "metadata": {},
   "outputs": [
    {
     "data": {
      "text/plain": [
       "((607470, 65), (151868, 65))"
      ]
     },
     "execution_count": 17,
     "metadata": {},
     "output_type": "execute_result"
    }
   ],
   "source": [
    "#split data into train 80% and 20% test \n",
    "\n",
    "from sklearn.model_selection import train_test_split\n",
    "\n",
    "X = loan_data.drop('good_bad', axis=1)\n",
    "y = loan_data['good_bad']\n",
    "\n",
    "X_train, X_test, y_train, y_test = train_test_split (X, y, test_size=0.2, stratify= y, random_state= 42)\n",
    "\n",
    "X_train.shape, X_test.shape \n"
   ]
  },
  {
   "cell_type": "code",
   "execution_count": 18,
   "metadata": {},
   "outputs": [
    {
     "data": {
      "text/plain": [
       "good_bad\n",
       "0    0.974675\n",
       "1    0.025325\n",
       "Name: proportion, dtype: float64"
      ]
     },
     "execution_count": 18,
     "metadata": {},
     "output_type": "execute_result"
    }
   ],
   "source": [
    "y_train.value_counts(normalize=True)"
   ]
  },
  {
   "cell_type": "code",
   "execution_count": 19,
   "metadata": {},
   "outputs": [
    {
     "data": {
      "text/plain": [
       "good_bad\n",
       "0    0.974675\n",
       "1    0.025325\n",
       "Name: proportion, dtype: float64"
      ]
     },
     "execution_count": 19,
     "metadata": {},
     "output_type": "execute_result"
    }
   ],
   "source": [
    "y_test.value_counts(normalize=True)"
   ]
  },
  {
   "cell_type": "markdown",
   "metadata": {},
   "source": [
    "### Data_Cleaning"
   ]
  },
  {
   "cell_type": "code",
   "execution_count": 20,
   "metadata": {},
   "outputs": [
    {
     "name": "stdout",
     "output_type": "stream",
     "text": [
      "term\n",
      "['36 months' '60 months']\n",
      "\n",
      "grade\n",
      "['B' 'C' 'A' 'D' 'E' 'G' 'F']\n",
      "\n",
      "sub_grade\n",
      "['B4' 'C4' 'C3' 'A2' 'B3' 'C1' 'D5' 'B2' 'C2' 'A4' 'E2' 'C5' 'B1' 'B5'\n",
      " 'D4' 'D3' 'G3' 'A1' 'D1' 'E3' 'E5' 'A5' 'E1' 'A3' 'D2' 'E4' 'F4' 'F5'\n",
      " 'F1' 'F2' 'G5' 'G4' 'G2' 'G1' 'F3']\n",
      "\n",
      "emp_title\n",
      "['Technical Director' 'Bartender' 'Service Advisor' ...\n",
      " 'eCommerce Consultant' 'Supervising Sr Engr' 'VP, Compliance Manager']\n",
      "\n",
      "emp_length\n",
      "['4 years' '6 years' '1 year' '10+ years' nan '2 years' '5 years'\n",
      " '< 1 year' '8 years' '9 years' '7 years' '3 years']\n",
      "\n",
      "home_ownership\n",
      "['RENT' 'MORTGAGE' 'OWN' 'ANY' 'NONE']\n",
      "\n",
      "verification_status\n",
      "['Not Verified' 'Source Verified' 'Verified']\n",
      "\n",
      "issue_d\n",
      "['Jul-2016' 'Apr-2017' 'Jun-2017' 'May-2017' 'Aug-2016' 'Apr-2016'\n",
      " 'Jun-2016' 'Jan-2017' 'Mar-2017' 'Jan-2016' 'Mar-2016' 'Oct-2016'\n",
      " 'Feb-2017' 'Aug-2017' 'Jul-2017' 'Dec-2016' 'Nov-2016' 'Feb-2016'\n",
      " 'May-2016' 'Sep-2017' 'Sep-2016']\n",
      "\n",
      "loan_status\n",
      "['Fully Paid' 'Current' 'Charged Off' 'Late (31-120 days)'\n",
      " 'In Grace Period' 'Late (16-30 days)' 'Default']\n",
      "\n",
      "pymnt_plan\n",
      "['n' 'y']\n",
      "\n",
      "purpose\n",
      "['debt_consolidation' 'moving' 'major_purchase' 'small_business'\n",
      " 'credit_card' 'home_improvement' 'vacation' 'medical' 'renewable_energy'\n",
      " 'other' 'car' 'house' 'wedding']\n",
      "\n",
      "title\n",
      "['Debt consolidation' 'Moving and relocation' 'Major purchase' 'Business'\n",
      " 'Credit card refinancing' 'Home improvement' 'Vacation'\n",
      " 'Medical expenses' nan 'Green loan' 'Other' 'Car financing' 'Home buying'\n",
      " 'Credit Card Consolidation']\n",
      "\n",
      "zip_code\n",
      "['217xx' '331xx' '334xx' '276xx' '770xx' '404xx' '925xx' '953xx' '762xx'\n",
      " '410xx' '944xx' '490xx' '840xx' '300xx' '958xx' '996xx' '970xx' '960xx'\n",
      " '440xx' '988xx' '740xx' '030xx' '306xx' '850xx' '967xx' '299xx' '917xx'\n",
      " '731xx' '328xx' '606xx' '314xx' '281xx' '223xx' '344xx' '750xx' '087xx'\n",
      " '997xx' '601xx' '070xx' '109xx' '100xx' '481xx' '532xx' '906xx' '991xx'\n",
      " '851xx' '182xx' '564xx' '105xx' '912xx' '801xx' '110xx' '700xx' '453xx'\n",
      " '210xx' '891xx' '073xx' '329xx' '974xx' '940xx' '113xx' '918xx' '150xx'\n",
      " '112xx' '280xx' '708xx' '554xx' '685xx' '941xx' '951xx' '928xx' '927xx'\n",
      " '761xx' '924xx' '933xx' '373xx' '810xx' '775xx' '972xx' '456xx' '494xx'\n",
      " '605xx' '216xx' '075xx' '287xx' '201xx' '947xx' '921xx' '184xx' '483xx'\n",
      " '104xx' '462xx' '403xx' '272xx' '441xx' '765xx' '327xx' '688xx' '080xx'\n",
      " '774xx' '321xx' '362xx' '782xx' '346xx' '950xx' '145xx' '305xx' '295xx'\n",
      " '730xx' '926xx' '371xx' '645xx' '797xx' '954xx' '379xx' '282xx' '903xx'\n",
      " '773xx' '068xx' '212xx' '914xx' '705xx' '220xx' '711xx' '349xx' '322xx'\n",
      " '347xx' '913xx' '436xx' '303xx' '258xx' '707xx' '816xx' '946xx' '703xx'\n",
      " '829xx' '551xx' '231xx' '631xx' '232xx' '126xx' '982xx' '063xx' '922xx'\n",
      " '482xx' '356xx' '805xx' '480xx' '852xx' '766xx' '530xx' '088xx' '486xx'\n",
      " '064xx' '310xx' '977xx' '706xx' '920xx' '200xx' '010xx' '027xx' '905xx'\n",
      " '751xx' '724xx' '603xx' '975xx' '431xx' '565xx' '076xx' '802xx' '333xx'\n",
      " '813xx' '275xx' '018xx' '945xx' '846xx' '380xx' '607xx' '393xx' '114xx'\n",
      " '342xx' '021xx' '365xx' '956xx' '570xx' '618xx' '273xx' '908xx' '330xx'\n",
      " '352xx' '600xx' '263xx' '084xx' '727xx' '563xx' '983xx' '576xx' '446xx'\n",
      " '786xx' '647xx' '207xx' '900xx' '125xx' '745xx' '489xx' '338xx' '980xx'\n",
      " '768xx' '448xx' '337xx' '117xx' '336xx' '452xx' '066xx' '023xx' '785xx'\n",
      " '136xx' '081xx' '923xx' '473xx' '562xx' '668xx' '948xx' '444xx' '358xx'\n",
      " '219xx' '934xx' '040xx' '234xx' '339xx' '957xx' '470xx' '382xx' '043xx'\n",
      " '936xx' '297xx' '274xx' '930xx' '335xx' '402xx' '458xx' '583xx' '244xx'\n",
      " '479xx' '907xx' '544xx' '622xx' '221xx' '614xx' '780xx' '160xx' '890xx'\n",
      " '800xx' '787xx' '752xx' '190xx' '208xx' '115xx' '118xx' '495xx' '741xx'\n",
      " '853xx' '492xx' '474xx' '498xx' '666xx' '585xx' '240xx' '229xx' '016xx'\n",
      " '142xx' '038xx' '871xx' '360xx' '681xx' '170xx' '820xx' '609xx' '981xx'\n",
      " '553xx' '895xx' '935xx' '301xx' '764xx' '020xx' '430xx' '720xx' '378xx'\n",
      " '660xx' '015xx' '804xx' '082xx' '937xx' '313xx' '085xx' '071xx' '674xx'\n",
      " '472xx' '304xx' '042xx' '718xx' '195xx' '744xx' '985xx' '454xx' '882xx'\n",
      " '808xx' '355xx' '122xx' '422xx' '107xx' '316xx' '222xx' '233xx' '559xx'\n",
      " '270xx' '140xx' '039xx' '641xx' '633xx' '620xx' '243xx' '283xx' '932xx'\n",
      " '286xx' '151xx' '655xx' '546xx' '326xx' '191xx' '460xx' '604xx' '302xx'\n",
      " '484xx' '174xx' '228xx' '534xx' '361xx' '984xx' '550xx' '390xx' '186xx'\n",
      " '185xx' '864xx' '180xx' '465xx' '760xx' '488xx' '466xx' '193xx' '141xx'\n",
      " '897xx' '880xx' '824xx' '072xx' '968xx' '916xx' '083xx' '074xx' '139xx'\n",
      " '617xx' '870xx' '602xx' '319xx' '580xx' '875xx' '992xx' '121xx' '077xx'\n",
      " '124xx' '463xx' '242xx' '833xx' '381xx' '132xx' '397xx' '323xx' '809xx'\n",
      " '245xx' '894xx' '630xx' '704xx' '386xx' '103xx' '370xx' '325xx' '376xx'\n",
      " '995xx' '284xx' '060xx' '028xx' '613xx' '198xx' '309xx' '539xx' '019xx'\n",
      " '130xx' '657xx' '971xx' '973xx' '757xx' '815xx' '111xx' '363xx' '152xx'\n",
      " '196xx' '581xx' '627xx' '197xx' '294xx' '372xx' '847xx' '811xx' '296xx'\n",
      " '781xx' '261xx' '442xx' '615xx' '029xx' '714xx' '478xx' '844xx' '181xx'\n",
      " '078xx' '549xx' '662xx' '665xx' '857xx' '806xx' '487xx' '312xx' '558xx'\n",
      " '675xx' '716xx' '438xx' '324xx' '146xx' '387xx' '189xx' '156xx' '723xx'\n",
      " '629xx' '989xx' '079xx' '172xx' '285xx' '218xx' '169xx' '608xx' '166xx'\n",
      " '467xx' '292xx' '475xx' '531xx' '648xx' '368xx' '721xx' '067xx' '119xx'\n",
      " '784xx' '086xx' '175xx' '624xx' '793xx' '664xx' '650xx' '026xx' '293xx'\n",
      " '776xx' '224xx' '902xx' '194xx' '877xx' '640xx' '759xx' '315xx' '783xx'\n",
      " '863xx' '873xx' '756xx' '949xx' '432xx' '366xx' '497xx' '838xx' '651xx'\n",
      " '308xx' '677xx' '400xx' '148xx' '227xx' '388xx' '978xx' '931xx' '416xx'\n",
      " '461xx' '307xx' '377xx' '144xx' '919xx' '952xx' '856xx' '238xx' '737xx'\n",
      " '799xx' '548xx' '230xx' '357xx' '290xx' '959xx' '420xx' '171xx' '791xx'\n",
      " '616xx' '199xx' '129xx' '211xx' '499xx' '011xx' '722xx' '423xx' '543xx'\n",
      " '451xx' '557xx' '288xx' '058xx' '128xx' '236xx' '116xx' '435xx' '832xx'\n",
      " '427xx' '053xx' '024xx' '754xx' '069xx' '405xx' '449xx' '161xx' '986xx'\n",
      " '209xx' '178xx' '728xx' '391xx' '767xx' '779xx' '535xx' '045xx' '394xx'\n",
      " '691xx' '433xx' '062xx' '291xx' '341xx' '354xx' '298xx' '065xx' '915xx'\n",
      " '571xx' '955xx' '843xx' '225xx' '041xx' '278xx' '778xx' '455xx' '626xx'\n",
      " '582xx' '054xx' '395xx' '167xx' '031xx' '610xx' '710xx' '976xx' '560xx'\n",
      " '910xx' '012xx' '502xx' '450xx' '734xx' '837xx' '755xx' '652xx' '961xx'\n",
      " '789xx' '226xx' '683xx' '056xx' '017xx' '443xx' '014xx' '625xx' '597xx'\n",
      " '680xx' '318xx' '795xx' '153xx' '235xx' '794xx' '173xx' '411xx' '822xx'\n",
      " '537xx' '612xx' '123xx' '406xx' '939xx' '670xx' '034xx' '575xx' '836xx'\n",
      " '383xx' '425xx' '469xx' '541xx' '439xx' '389xx' '841xx' '206xx' '493xx'\n",
      " '059xx' '826xx' '812xx' '998xx' '561xx' '320xx' '540xx' '317xx' '701xx'\n",
      " '351xx' '693xx' '904xx' '102xx' '611xx' '827xx' '637xx' '577xx' '628xx'\n",
      " '033xx' '943xx' '712xx' '108xx' '120xx' '187xx' '598xx' '147xx' '133xx'\n",
      " '547xx' '623xx' '177xx' '271xx' '859xx' '593xx' '188xx' '392xx' '468xx'\n",
      " '656xx' '277xx' '584xx' '239xx' '667xx' '471xx' '788xx' '013xx' '447xx'\n",
      " '477xx' '672xx' '574xx' '350xx' '046xx' '279xx' '591xx' '159xx' '050xx'\n",
      " '162xx' '692xx' '154xx' '586xx' '421xx' '834xx' '127xx' '044xx' '814xx'\n",
      " '690xx' '743xx' '993xx' '252xx' '596xx' '158xx' '726xx' '599xx' '032xx'\n",
      " '407xx' '134xx' '176xx' '687xx' '725xx' '566xx' '061xx' '262xx' '165xx'\n",
      " '658xx' '424xx' '567xx' '398xx' '025xx' '131xx' '777xx' '661xx' '769xx'\n",
      " '215xx' '684xx' '911xx' '719xx' '049xx' '594xx' '638xx' '735xx' '137xx'\n",
      " '437xx' '990xx' '485xx' '790xx' '385xx' '138xx' '384xx' '898xx' '246xx'\n",
      " '713xx' '729xx' '796xx' '679xx' '748xx' '241xx' '636xx' '592xx' '835xx'\n",
      " '874xx' '057xx' '445xx' '401xx' '106xx' '634xx' '496xx' '545xx' '143xx'\n",
      " '588xx' '878xx' '803xx' '183xx' '746xx' '374xx' '364xx' '653xx' '828xx'\n",
      " '135xx' '168xx' '359xx' '214xx' '476xx' '635xx' '415xx' '763xx' '556xx'\n",
      " '676xx' '758xx' '047xx' '590xx' '742xx' '035xx' '619xx' '048xx' '749xx'\n",
      " '673xx' '179xx' '414xx' '457xx' '412xx' '289xx' '149xx' '671xx' '860xx'\n",
      " '639xx' '678xx' '157xx' '237xx' '587xx' '163xx' '963xx' '738xx' '254xx'\n",
      " '881xx' '464xx' '686xx' '717xx' '022xx' '572xx' '999xx' '542xx' '753xx'\n",
      " '101xx' '491xx' '669xx' '739xx' '265xx' '264xx' '434xx' '884xx' '250xx'\n",
      " '409xx' '538xx' '573xx' '798xx' '883xx' '052xx' '037xx' '089xx' '855xx'\n",
      " '164xx' '260xx' '097xx' '367xx' '426xx' '408xx' '792xx' '893xx' '689xx'\n",
      " '646xx' '413xx' '654xx' '994xx' '247xx' '418xx' '155xx' '845xx' '830xx'\n",
      " '036xx' '807xx' '251xx' '879xx' '698xx' '644xx' '736xx' '268xx' '747xx'\n",
      " '823xx' '051xx' '506xx' '825xx' '396xx' '831xx' '332xx' '417xx' '595xx'\n",
      " '257xx' '253xx' '255xx' '772xx' '865xx' '663xx' '091xx' '569xx' '369xx'\n",
      " '090xx' '552xx' '249xx' '259xx' '096xx' '340xx' '256xx' '969xx' '500xx'\n",
      " '008xx' '267xx' '098xx' '094xx' '979xx' '962xx' '965xx' '885xx' '555xx'\n",
      " '510xx' '345xx' '854xx' '093xx' '621xx' '901xx' '515xx' '343xx' '248xx'\n",
      " '095xx' '709xx' '942xx' '348xx' '696xx' '525xx' '092xx' '311xx' '009xx'\n",
      " '861xx' '204xx' '202xx' '523xx' '821xx' '203xx' '702xx' '266xx' nan\n",
      " '966xx' '909xx' '528xx' '872xx' '987xx' '353xx' '521xx' '055xx']\n",
      "\n",
      "addr_state\n",
      "['MD' 'FL' 'NC' 'TX' 'KY' 'CA' 'MI' 'UT' 'GA' 'AK' 'OR' 'OH' 'WA' 'OK'\n",
      " 'NH' 'AZ' 'HI' 'SC' 'IL' 'VA' 'NJ' 'NY' 'WI' 'PA' 'MN' 'CO' 'LA' 'NV'\n",
      " 'NE' 'TN' 'IN' 'AL' 'MO' 'CT' 'WV' 'WY' 'DC' 'MA' 'AR' 'MS' 'SD' 'KS'\n",
      " 'ME' 'ND' 'NM' 'ID' 'RI' 'DE' 'VT' 'MT']\n",
      "\n",
      "earliest_cr_line\n",
      "['Mar-1993' 'Jun-2005' 'Oct-2013' 'May-2000' 'May-2002' 'Mar-2005'\n",
      " 'Jul-1990' 'Feb-2003' 'Feb-1989' 'Aug-2006' 'Oct-2000' 'Nov-2004'\n",
      " 'Nov-1988' 'Aug-2002' 'Sep-1999' 'May-2004' 'Jul-2000' 'Apr-2003'\n",
      " 'Aug-2003' 'Oct-1991' 'Apr-1985' 'Mar-1999' 'Sep-2003' 'May-1995'\n",
      " 'May-2011' 'Nov-1998' 'Dec-1998' 'Jun-1985' 'Nov-1995' 'Feb-1997'\n",
      " 'Dec-1994' 'Mar-2003' 'Jun-2002' 'Jul-2011' 'Nov-1989' 'Mar-2002'\n",
      " 'May-2009' 'Nov-2003' 'Sep-2002' 'Jun-1983' 'Dec-2001' 'Jan-1983'\n",
      " 'Dec-1992' 'May-2008' 'Mar-2000' 'Oct-2008' 'Feb-2004' 'Apr-2004'\n",
      " 'Dec-1997' 'Jan-2005' 'Aug-2004' 'Mar-1998' 'Aug-2001' 'Aug-2013'\n",
      " 'Oct-1990' 'Nov-2005' 'Apr-2006' 'Jan-2006' 'Mar-2004' 'Mar-1991'\n",
      " 'Sep-2011' 'Feb-2006' 'Oct-1961' 'Sep-2007' 'Oct-2009' 'Mar-1997'\n",
      " 'Dec-2012' 'Aug-1993' 'Feb-2005' 'Nov-2007' 'Dec-1983' 'Dec-2003'\n",
      " 'Oct-1998' 'Apr-2008' 'Apr-2012' 'Sep-2009' 'Dec-1985' 'Feb-2013'\n",
      " 'Sep-2000' 'Dec-2010' 'Oct-2004' 'Aug-1994' 'Jul-1976' 'Jul-1986'\n",
      " 'Oct-2007' 'Mar-2010' 'Dec-2006' 'May-2005' 'Feb-2000' 'Feb-1994'\n",
      " 'Apr-2011' 'Jul-2009' 'Oct-2006' 'Nov-2002' 'Jun-2003' 'Sep-1977'\n",
      " 'Nov-2012' 'Oct-2003' 'Oct-1978' 'Jul-1998' 'Jun-1997' 'Jun-1994'\n",
      " 'Oct-1997' 'Nov-1996' 'May-1984' 'Apr-2009' 'Dec-2002' 'Apr-2000'\n",
      " 'Apr-1992' 'Jan-1974' 'Nov-2000' 'May-1997' 'Apr-1996' 'Jun-2001'\n",
      " 'Sep-1997' 'Oct-1993' 'Apr-2001' 'Feb-1998' 'Feb-1980' 'Nov-1990'\n",
      " 'Nov-2006' 'Sep-1993' 'Sep-1995' 'Mar-2008' 'Jun-2011' 'Feb-1986'\n",
      " 'Sep-2008' 'Nov-2001' 'Jul-1996' 'Apr-2002' 'Oct-1980' 'Dec-2004'\n",
      " 'Jun-2007' 'Aug-2000' 'Dec-2005' 'Jun-2013' 'Oct-2005' 'Sep-1996'\n",
      " 'Jun-2008' 'Sep-1994' 'Jan-2001' 'Feb-1987' 'Jan-2004' 'Jul-1989'\n",
      " 'Apr-2007' 'Apr-1982' 'Aug-1996' 'Aug-1977' 'Jun-1993' 'Sep-2004'\n",
      " 'Jun-1999' 'Aug-2010' 'Feb-2002' 'Aug-1997' 'Sep-2006' 'Oct-1988'\n",
      " 'Dec-1984' 'Mar-1976' 'May-2001' 'Apr-1995' 'Mar-2006' 'Jul-2006'\n",
      " 'Aug-2011' 'Aug-2012' 'Jul-1991' 'Jul-1995' 'Nov-1999' 'Oct-1996'\n",
      " 'May-1994' 'Sep-1998' 'May-1993' 'Jan-2002' 'Aug-2008' 'Jul-2012'\n",
      " 'Nov-1997' 'Aug-1991' 'Sep-1992' 'Jul-2003' 'Sep-1987' 'Feb-2012'\n",
      " 'Jan-1991' 'Jan-1987' 'Jul-1987' 'Aug-1975' 'Dec-1993' 'May-1990'\n",
      " 'Dec-1987' 'Jun-1991' 'Apr-1988' 'Dec-2000' 'Aug-1998' 'Jun-1988'\n",
      " 'May-2003' 'Jul-1975' 'Dec-2007' 'Jan-2000' 'Dec-1986' 'Jan-1999'\n",
      " 'Aug-1995' 'Dec-2011' 'Jan-1963' 'Jul-2004' 'Jun-1998' 'Mar-1995'\n",
      " 'Jul-1997' 'Jul-2005' 'Oct-1999' 'Oct-2011' 'Jun-2000' 'Jan-1997'\n",
      " 'Jan-2003' 'Jan-1988' 'Mar-1994' 'May-1988' 'Jun-1986' 'Jan-1993'\n",
      " 'Jan-2014' 'Apr-1997' 'Apr-2005' 'Aug-2005' 'Oct-1995' 'Jun-1996'\n",
      " 'Nov-1986' 'Jun-2004' 'Jun-1995' 'Feb-2009' 'Nov-1975' 'May-1989'\n",
      " 'Jan-2007' 'Jan-2012' 'May-2007' 'Nov-1985' 'Sep-2001' 'Aug-1999'\n",
      " 'Apr-1987' 'Apr-1999' 'Oct-2001' 'Oct-1981' 'Dec-2009' 'May-2006'\n",
      " 'Aug-1976' 'Oct-1992' 'Apr-1993' 'Oct-1983' 'Oct-1985' 'Jul-1999'\n",
      " 'Aug-1989' 'Mar-1996' 'Sep-2013' 'Apr-1989' 'Mar-1992' 'Jul-2008'\n",
      " 'Jun-1992' 'Oct-1989' 'Nov-2010' 'Apr-2014' 'Feb-1996' 'Jan-1965'\n",
      " 'Mar-2014' 'Mar-2001' 'Feb-1985' 'May-2010' 'Jun-2014' 'Jul-2002'\n",
      " 'Oct-2002' 'Sep-1990' 'Apr-1991' 'Sep-1989' 'Mar-2009' 'Feb-1995'\n",
      " 'Dec-2008' 'Dec-1996' 'Sep-2005' 'Aug-1984' 'Mar-1984' 'Mar-2007'\n",
      " 'Jan-1975' 'Dec-1991' 'Jun-1984' 'May-1991' 'Nov-1994' 'Jul-1984'\n",
      " 'Jun-2006' 'Jan-1995' 'Feb-1991' 'Jul-1978' 'Feb-2011' 'Aug-2009'\n",
      " 'Dec-1995' 'Aug-1992' 'Feb-1984' 'Feb-1993' 'May-2013' 'Oct-1975'\n",
      " 'Jul-1992' 'Apr-1998' 'Sep-2012' 'May-1998' 'Mar-2011' 'Aug-1978'\n",
      " 'Sep-1981' 'May-1987' 'Aug-1981' 'May-1999' 'Jan-1996' 'Aug-2007'\n",
      " 'Feb-1992' 'Aug-1985' 'Dec-1999' 'Nov-1979' 'Aug-1986' 'Jan-1976'\n",
      " 'Jul-1983' 'Jan-1986' 'Sep-2010' 'Feb-1999' 'Jul-1994' 'Nov-2009'\n",
      " 'Oct-1986' 'Jun-1989' 'Apr-1994' 'Aug-1990' 'Jan-2013' 'Mar-1989'\n",
      " 'Nov-1992' 'Oct-2010' 'Jun-2012' 'Jul-2001' 'Nov-1993' 'Jan-2008'\n",
      " 'May-2014' 'May-1978' 'Jan-1989' 'Feb-2007' 'Mar-1990' 'Apr-1990'\n",
      " 'Sep-1985' 'Sep-1983' 'Mar-1978' 'Jul-2007' 'Feb-2001' 'May-1986'\n",
      " 'Oct-1982' 'Jul-1982' 'Dec-1988' 'Sep-1973' 'Jun-1979' 'Apr-2013'\n",
      " 'May-1977' 'Jun-1981' 'Nov-1976' 'Jul-2010' 'Mar-1988' 'Apr-2010'\n",
      " 'Apr-1971' 'Jul-1988' 'Mar-2013' 'Dec-1981' 'Dec-1989' 'Oct-1987'\n",
      " 'Apr-1972' 'Oct-1994' 'Jul-1985' 'May-1992' 'Nov-1983' 'Jan-1966'\n",
      " 'Nov-1981' 'Aug-1979' 'Aug-1987' 'Jul-1993' 'Sep-1972' 'Apr-1975'\n",
      " 'Jan-1994' 'Mar-1980' 'Feb-2008' 'Jun-1975' 'Feb-2010' 'Jan-2009'\n",
      " 'Jun-1973' 'Oct-1984' 'May-2012' 'Sep-1991' 'Apr-1976' 'Apr-1979'\n",
      " 'Jun-1990' 'Jan-1979' 'Dec-1973' 'Feb-1988' 'Jul-1977' 'Mar-1987'\n",
      " 'Aug-1970' 'May-1982' 'Feb-1990' 'May-1983' 'Nov-1991' 'Feb-1982'\n",
      " 'Jun-1976' 'Jan-1998' 'May-1979' 'Jun-1987' 'Feb-2014' 'Nov-1982'\n",
      " 'Nov-1987' 'Dec-1990' 'Aug-1988' 'Oct-1964' 'Mar-1982' 'May-1996'\n",
      " 'Nov-2013' 'Sep-1984' 'Sep-1986' 'Mar-1981' 'Apr-1986' 'Jan-1980'\n",
      " 'May-1980' 'Jul-1981' 'Jan-1992' 'Oct-2012' 'Feb-1976' 'Jan-1973'\n",
      " 'Mar-1986' 'Aug-1972' 'Nov-2008' 'Jun-2010' 'Feb-1974' 'Jan-1984'\n",
      " 'Jan-1981' 'May-1974' 'Mar-2012' 'Sep-1970' 'Sep-1982' 'Dec-1977'\n",
      " 'Mar-1977' 'Feb-1983' 'Mar-1985' 'Dec-1982' 'Sep-1979' 'Sep-1980'\n",
      " 'Jul-1980' 'Feb-1971' 'Jun-2009' 'Jan-2011' 'Jan-2010' 'Dec-2013'\n",
      " 'Oct-1974' 'Jan-1990' 'Sep-1988' 'Nov-2011' 'Mar-1979' 'Nov-1977'\n",
      " 'Jul-2013' 'Apr-1984' 'Oct-1970' 'Mar-1974' 'Jun-1978' 'Jul-1979'\n",
      " 'Mar-1983' 'May-1973' 'Nov-1984' 'Feb-1970' 'Feb-1978' 'Apr-1974'\n",
      " 'May-1985' 'Jan-1953' 'Nov-1978' 'Mar-1963' 'Apr-1980' 'Aug-1969'\n",
      " 'May-1981' 'Jan-1978' 'Aug-1964' 'Jun-1982' 'Apr-1966' 'Aug-1983'\n",
      " 'Apr-1973' 'Mar-1973' 'Dec-1979' 'Dec-1980' 'Feb-1981' 'Aug-1966'\n",
      " 'Apr-1983' 'Jan-1977' 'Aug-1973' 'Jan-1964' 'Jan-1985' 'Nov-1973'\n",
      " 'Oct-1977' 'Apr-1977' 'Aug-1982' 'Sep-1976' 'Dec-1966' 'Jan-1968'\n",
      " 'Dec-1969' 'Nov-1972' 'Jan-1982' 'Apr-1978' 'Jan-1961' 'Jan-1967'\n",
      " 'Oct-1973' 'Sep-1969' 'Mar-1970' 'Dec-1978' 'Aug-1980' 'May-1970'\n",
      " 'Mar-1972' 'Feb-1972' 'Jun-1970' 'Dec-1968' 'May-1975' 'Jun-1974'\n",
      " 'Jul-1974' 'Sep-1975' 'Jan-1972' 'Jul-1972' 'Sep-1974' 'Jun-1968'\n",
      " 'Jul-1973' 'Feb-1977' 'Dec-1976' 'Jul-1968' 'Feb-1979' 'Apr-1969'\n",
      " 'Feb-1973' 'Nov-1966' 'Jul-1971' 'Jul-1967' 'Jun-1966' 'Oct-1968'\n",
      " 'Jan-1948' 'Oct-1976' 'Sep-1968' 'Mar-1968' 'Apr-1981' 'May-1972'\n",
      " 'Oct-1969' 'Jun-1971' 'Jan-1970' 'Nov-1971' 'Dec-1975' 'Oct-1979'\n",
      " 'Mar-1975' 'Aug-2014' 'Jun-1964' 'Sep-1978' 'Jan-1969' 'Jan-1971'\n",
      " 'Sep-1965' 'Aug-1967' 'Mar-1971' 'Feb-1975' 'Oct-1972' 'Nov-1980'\n",
      " 'Mar-1964' 'May-1967' 'May-1966' 'May-1965' 'May-1976' 'Oct-1967'\n",
      " 'May-1961' 'Dec-1972' 'Nov-1970' 'Jun-1967' 'Feb-1968' 'Apr-1968'\n",
      " 'Nov-1964' 'Jul-1970' 'Nov-1959' 'Dec-1962' 'Dec-1974' 'Sep-1967'\n",
      " 'Nov-1974' 'Apr-1970' 'Aug-1974' 'Sep-1971' 'Jun-1969' 'Jun-1972'\n",
      " 'Dec-1959' 'Aug-1971' 'May-1971' 'Oct-1971' 'Jul-2014' 'Apr-1964'\n",
      " 'Jul-1969' 'Dec-1971' 'Jun-1958' 'Jun-1977' 'Nov-1967' 'Dec-1970'\n",
      " 'Jan-1960' 'Jun-1980' 'Dec-1965' 'Mar-1965' 'Dec-1967' 'May-1969'\n",
      " 'Jul-1964' 'May-1963' 'Jun-1959' 'Feb-1969' 'Apr-1960' 'Nov-1969'\n",
      " 'Oct-1966' 'May-1968' 'Oct-1963' 'Jun-1965' 'Apr-1967' 'Nov-1965'\n",
      " 'Aug-1968' 'Feb-1967' 'Nov-1961' 'Apr-1963' 'Dec-1960' 'Sep-1961'\n",
      " 'Nov-1968' 'Jan-1962' 'Jul-1959' 'Oct-1965' 'Mar-1969' 'Feb-1966'\n",
      " 'May-1958' 'Mar-1967' 'Dec-1964' 'Sep-1964' 'Apr-1965' 'Jun-1962'\n",
      " 'Jul-1965' 'Dec-1963' 'Mar-1966' 'Aug-1965' 'May-1964' 'Jan-1950'\n",
      " 'Jul-1952' 'Feb-1961' 'Aug-1957' 'Aug-1963' 'Jan-1959' 'Mar-1955'\n",
      " 'Mar-1933' 'Jan-1957' 'Sep-1966' 'May-1959' 'Apr-1934' 'Nov-1963'\n",
      " 'Apr-1962' 'Jul-1966' 'Feb-1962' 'Jan-1958' 'Dec-1958' 'Nov-1962'\n",
      " 'Jul-1961' 'Sep-1951' 'Feb-1960' 'Jan-1956' 'Aug-1962' 'Jul-1962'\n",
      " 'Jun-1963' 'Mar-1959' 'Feb-1965' 'Nov-1960' 'Dec-1956' 'Jan-1952'\n",
      " 'Feb-1964' 'Mar-1954' 'Apr-1955' 'Apr-1961' 'Sep-1963' 'Aug-1959'\n",
      " 'Jan-1951' 'Jul-1963' 'Jul-1960' 'Oct-1960' 'Dec-1946' 'Mar-1961'\n",
      " 'Sep-1962' 'Feb-1959' 'Mar-1962' 'Jun-1957' 'Apr-1958' 'Oct-1962'\n",
      " 'Feb-1963' 'Jun-1952' 'May-1960' 'Aug-1953' 'Oct-1958' 'Jan-1955'\n",
      " 'Aug-1958' 'Aug-1961' 'Jun-1961' 'Feb-1945' 'Aug-1960' 'Nov-1957'\n",
      " 'Mar-1957' 'Aug-1941' 'Feb-1934' 'Jun-1960']\n",
      "\n",
      "initial_list_status\n",
      "['f' 'w']\n",
      "\n",
      "last_pymnt_d\n",
      "['Aug-2017' 'Dec-2017' 'Nov-2017' nan 'Feb-2017' 'Dec-2016' 'Nov-2016'\n",
      " 'Sep-2016' 'Jun-2017' 'Apr-2017' 'Jan-2017' 'Jul-2017' 'Sep-2017'\n",
      " 'May-2017' 'Jul-2016' 'Jan-2016' 'Mar-2017' 'Oct-2017' 'Aug-2016'\n",
      " 'Oct-2016' 'Jun-2016' 'Mar-2016' 'May-2016' 'Apr-2016' 'Feb-2016']\n",
      "\n",
      "next_pymnt_d\n",
      "[nan 'Jan-2018' 'Feb-2018' 'Dec-2017']\n",
      "\n",
      "last_credit_pull_d\n",
      "['Dec-2017' 'Mar-2017' 'Aug-2017' 'May-2017' 'Jun-2017' 'Oct-2017'\n",
      " 'Nov-2017' 'Dec-2016' 'Jul-2017' 'Oct-2016' 'Feb-2017' 'Sep-2017'\n",
      " 'Jan-2017' 'Mar-2016' 'Sep-2016' 'Apr-2017' 'Aug-2016' 'Nov-2016'\n",
      " 'Apr-2016' 'Jul-2016' 'Jun-2016' 'May-2016' 'Jan-2016' 'Dec-2015'\n",
      " 'Feb-2016' nan]\n",
      "\n",
      "application_type\n",
      "['Individual' 'Joint App']\n",
      "\n"
     ]
    }
   ],
   "source": [
    "# X_train.select_dtypes(include= ['object','bool'])\n",
    "\n",
    "#check data types\n",
    "\n",
    "for col in X_train.select_dtypes(include= ['object','bool']).columns:\n",
    "    print(col)\n",
    "    print(X_train[col].unique())\n",
    "    print()\n"
   ]
  },
  {
   "cell_type": "code",
   "execution_count": 21,
   "metadata": {},
   "outputs": [
    {
     "name": "stdout",
     "output_type": "stream",
     "text": [
      "        term grade sub_grade     emp_title emp_length home_ownership verification_status   issue_d loan_status pymnt_plan             purpose                    title zip_code addr_state earliest_cr_line initial_list_status last_pymnt_d next_pymnt_d last_credit_pull_d application_type\n",
      "0  36 months     C        C1           NaN        NaN            OWN        Not Verified  Jun-2017     Current          n         credit_card  Credit card refinancing    148xx         NY         Sep-1985                   w     Dec-2017     Jan-2018           Dec-2017       Individual\n",
      "1  60 months     C        C1       teacher  10+ years       MORTGAGE        Not Verified  Jun-2017     Current          n  debt_consolidation       Debt consolidation    021xx         MA         Jun-1992                   w     Dec-2017     Jan-2018           Dec-2017       Individual\n",
      "2  36 months     C        C4  Front Office    7 years       MORTGAGE        Not Verified  Jun-2017     Current          n    home_improvement         Home improvement    018xx         MA         Jun-2002                   w     Dec-2017     Jan-2018           Dec-2017       Individual\n",
      "3  36 months     B        B1       Manager  10+ years           RENT     Source Verified  Jun-2017     Current          n                 car            Car financing    913xx         CA         Jan-2007                   w     Dec-2017     Jan-2018           Dec-2017       Individual\n",
      "4  36 months     B        B5     Paramedic  10+ years       MORTGAGE     Source Verified  Jun-2017     Current          n  debt_consolidation       Debt consolidation    560xx         MN         Feb-2002                   w     Dec-2017     Jan-2018           Dec-2017       Individual\n",
      "\n",
      "\n",
      "Index(['id', 'loan_amnt', 'funded_amnt', 'funded_amnt_inv', 'term', 'int_rate',\n",
      "       'installment', 'grade', 'sub_grade', 'emp_title', 'emp_length',\n",
      "       'home_ownership', 'annual_inc', 'verification_status', 'issue_d',\n",
      "       'loan_status', 'pymnt_plan', 'purpose', 'title', 'zip_code',\n",
      "       'addr_state', 'dti', 'delinq_2yrs', 'earliest_cr_line',\n",
      "       'inq_last_6mths', 'mths_since_last_delinq', 'open_acc', 'pub_rec',\n",
      "       'revol_bal', 'revol_util', 'total_acc', 'initial_list_status',\n",
      "       'out_prncp', 'out_prncp_inv', 'total_pymnt', 'total_pymnt_inv',\n",
      "       'total_rec_prncp', 'total_rec_int', 'total_rec_late_fee', 'recoveries',\n",
      "       'collection_recovery_fee', 'last_pymnt_d', 'last_pymnt_amnt',\n",
      "       'next_pymnt_d', 'last_credit_pull_d', 'collections_12_mths_ex_med',\n",
      "       'policy_code', 'application_type', 'acc_now_delinq', 'tot_coll_amt',\n",
      "       'tot_cur_bal', 'open_acc_6m', 'open_il_12m', 'open_il_24m',\n",
      "       'mths_since_rcnt_il', 'total_bal_il', 'il_util', 'open_rv_12m',\n",
      "       'open_rv_24m', 'max_bal_bc', 'all_util', 'total_rev_hi_lim', 'inq_fi',\n",
      "       'total_cu_tl', 'inq_last_12m', 'good_bad'],\n",
      "      dtype='object')\n"
     ]
    }
   ],
   "source": [
    "# loan_data.info()\n",
    "# print(loan_data['term'])\n",
    "\n",
    "object_type = loan_data.select_dtypes(include='object')\n",
    "print(object_type.head().to_string())\n",
    "print(\"\\n\")\n",
    "print(loan_data.columns)"
   ]
  },
  {
   "cell_type": "code",
   "execution_count": 22,
   "metadata": {},
   "outputs": [
    {
     "data": {
      "text/plain": [
       "['term',\n",
       " 'emp_length',\n",
       " 'issue_d',\n",
       " 'earliest_cr_line',\n",
       " 'last_pymnt_d',\n",
       " 'next_pymnt_d',\n",
       " 'last_credit_pull_d']"
      ]
     },
     "execution_count": 22,
     "metadata": {},
     "output_type": "execute_result"
    }
   ],
   "source": [
    "col_to_clean = ['term','emp_length', 'issue_d', 'earliest_cr_line','last_pymnt_d', 'next_pymnt_d', 'last_credit_pull_d' ]\n",
    "\n",
    "col_to_clean"
   ]
  },
  {
   "cell_type": "code",
   "execution_count": 23,
   "metadata": {},
   "outputs": [
    {
     "data": {
      "text/plain": [
       "array(['36 months', '60 months'], dtype=object)"
      ]
     },
     "execution_count": 23,
     "metadata": {},
     "output_type": "execute_result"
    }
   ],
   "source": [
    "X_train['term'].unique()"
   ]
  },
  {
   "cell_type": "code",
   "execution_count": 24,
   "metadata": {},
   "outputs": [
    {
     "data": {
      "text/plain": [
       "292199    36\n",
       "105150    36\n",
       "20468     36\n",
       "51794     36\n",
       "240190    36\n",
       "          ..\n",
       "67465     60\n",
       "376057    36\n",
       "580549    36\n",
       "562964    36\n",
       "502585    36\n",
       "Name: term, Length: 607470, dtype: int64"
      ]
     },
     "execution_count": 24,
     "metadata": {},
     "output_type": "execute_result"
    }
   ],
   "source": [
    "#replace data type to numeric\n",
    "change = pd.to_numeric(X_train['term'].str.replace('months', ''))\n",
    "change"
   ]
  },
  {
   "cell_type": "code",
   "execution_count": 25,
   "metadata": {},
   "outputs": [
    {
     "data": {
      "text/plain": [
       "292199    36\n",
       "105150    36\n",
       "20468     36\n",
       "51794     36\n",
       "240190    36\n",
       "          ..\n",
       "67465     60\n",
       "376057    36\n",
       "580549    36\n",
       "562964    36\n",
       "502585    36\n",
       "Name: term, Length: 607470, dtype: int64"
      ]
     },
     "execution_count": 25,
     "metadata": {},
     "output_type": "execute_result"
    }
   ],
   "source": [
    "#replace term column\n",
    "X_train['term'] = change\n",
    "\n",
    "X_train['term']"
   ]
  },
  {
   "cell_type": "code",
   "execution_count": 26,
   "metadata": {},
   "outputs": [
    {
     "data": {
      "text/plain": [
       "array(['4 years', '6 years', '1 year', '10+ years', nan, '2 years',\n",
       "       '5 years', '< 1 year', '8 years', '9 years', '7 years', '3 years'],\n",
       "      dtype=object)"
      ]
     },
     "execution_count": 26,
     "metadata": {},
     "output_type": "execute_result"
    }
   ],
   "source": [
    "X_train['emp_length'].unique()"
   ]
  },
  {
   "cell_type": "code",
   "execution_count": 27,
   "metadata": {},
   "outputs": [
    {
     "data": {
      "text/plain": [
       "292199     4\n",
       "105150     6\n",
       "20468      1\n",
       "51794     10\n",
       "240190    10\n",
       "Name: emp_length, dtype: object"
      ]
     },
     "execution_count": 27,
     "metadata": {},
     "output_type": "execute_result"
    }
   ],
   "source": [
    "X_train['emp_length'] = X_train['emp_length'].str.replace('\\+ years', '')\n",
    "X_train['emp_length'] = X_train['emp_length'].str.replace(' years', '')\n",
    "X_train['emp_length'] = X_train['emp_length'].str.replace('< 1 year', str(0))\n",
    "X_train['emp_length'] = X_train['emp_length'].str.replace('+', '')\n",
    "X_train['emp_length'] = X_train['emp_length'].str.replace(' year', '')\n",
    "\n",
    "X_train['emp_length'].fillna(value = 0, inplace=True)\n",
    "\n",
    "X_train['emp_length'].head()\n"
   ]
  },
  {
   "cell_type": "code",
   "execution_count": 28,
   "metadata": {},
   "outputs": [
    {
     "data": {
      "text/plain": [
       "292199     4\n",
       "105150     6\n",
       "20468      1\n",
       "51794     10\n",
       "240190    10\n",
       "          ..\n",
       "67465      1\n",
       "376057     7\n",
       "580549    10\n",
       "562964     5\n",
       "502585     2\n",
       "Name: emp_length, Length: 607470, dtype: int64"
      ]
     },
     "execution_count": 28,
     "metadata": {},
     "output_type": "execute_result"
    }
   ],
   "source": [
    "X_train['emp_length'] = pd.to_numeric(X_train['emp_length'])\n",
    "\n",
    "X_train['emp_length']"
   ]
  },
  {
   "cell_type": "code",
   "execution_count": 29,
   "metadata": {},
   "outputs": [
    {
     "data": {
      "text/html": [
       "<div>\n",
       "<style scoped>\n",
       "    .dataframe tbody tr th:only-of-type {\n",
       "        vertical-align: middle;\n",
       "    }\n",
       "\n",
       "    .dataframe tbody tr th {\n",
       "        vertical-align: top;\n",
       "    }\n",
       "\n",
       "    .dataframe thead th {\n",
       "        text-align: right;\n",
       "    }\n",
       "</style>\n",
       "<table border=\"1\" class=\"dataframe\">\n",
       "  <thead>\n",
       "    <tr style=\"text-align: right;\">\n",
       "      <th></th>\n",
       "      <th>issue_d</th>\n",
       "      <th>earliest_cr_line</th>\n",
       "      <th>last_pymnt_d</th>\n",
       "      <th>next_pymnt_d</th>\n",
       "      <th>last_credit_pull_d</th>\n",
       "    </tr>\n",
       "  </thead>\n",
       "  <tbody>\n",
       "    <tr>\n",
       "      <th>292199</th>\n",
       "      <td>Jul-2016</td>\n",
       "      <td>Mar-1993</td>\n",
       "      <td>Aug-2017</td>\n",
       "      <td>NaN</td>\n",
       "      <td>Dec-2017</td>\n",
       "    </tr>\n",
       "    <tr>\n",
       "      <th>105150</th>\n",
       "      <td>Apr-2017</td>\n",
       "      <td>Jun-2005</td>\n",
       "      <td>Dec-2017</td>\n",
       "      <td>Jan-2018</td>\n",
       "      <td>Dec-2017</td>\n",
       "    </tr>\n",
       "    <tr>\n",
       "      <th>20468</th>\n",
       "      <td>Jun-2017</td>\n",
       "      <td>Oct-2013</td>\n",
       "      <td>Dec-2017</td>\n",
       "      <td>Jan-2018</td>\n",
       "      <td>Dec-2017</td>\n",
       "    </tr>\n",
       "    <tr>\n",
       "      <th>51794</th>\n",
       "      <td>May-2017</td>\n",
       "      <td>May-2000</td>\n",
       "      <td>Dec-2017</td>\n",
       "      <td>Jan-2018</td>\n",
       "      <td>Dec-2017</td>\n",
       "    </tr>\n",
       "    <tr>\n",
       "      <th>240190</th>\n",
       "      <td>Aug-2016</td>\n",
       "      <td>May-2002</td>\n",
       "      <td>Dec-2017</td>\n",
       "      <td>Jan-2018</td>\n",
       "      <td>Dec-2017</td>\n",
       "    </tr>\n",
       "    <tr>\n",
       "      <th>...</th>\n",
       "      <td>...</td>\n",
       "      <td>...</td>\n",
       "      <td>...</td>\n",
       "      <td>...</td>\n",
       "      <td>...</td>\n",
       "    </tr>\n",
       "    <tr>\n",
       "      <th>67465</th>\n",
       "      <td>May-2017</td>\n",
       "      <td>Apr-2003</td>\n",
       "      <td>Dec-2017</td>\n",
       "      <td>Jan-2018</td>\n",
       "      <td>Dec-2017</td>\n",
       "    </tr>\n",
       "    <tr>\n",
       "      <th>376057</th>\n",
       "      <td>Aug-2017</td>\n",
       "      <td>May-2006</td>\n",
       "      <td>Dec-2017</td>\n",
       "      <td>Jan-2018</td>\n",
       "      <td>Dec-2017</td>\n",
       "    </tr>\n",
       "    <tr>\n",
       "      <th>580549</th>\n",
       "      <td>Nov-2016</td>\n",
       "      <td>May-1996</td>\n",
       "      <td>May-2017</td>\n",
       "      <td>NaN</td>\n",
       "      <td>Sep-2017</td>\n",
       "    </tr>\n",
       "    <tr>\n",
       "      <th>562964</th>\n",
       "      <td>Nov-2016</td>\n",
       "      <td>Jul-2002</td>\n",
       "      <td>Dec-2017</td>\n",
       "      <td>Jan-2018</td>\n",
       "      <td>Dec-2017</td>\n",
       "    </tr>\n",
       "    <tr>\n",
       "      <th>502585</th>\n",
       "      <td>Apr-2016</td>\n",
       "      <td>Jul-2004</td>\n",
       "      <td>Apr-2016</td>\n",
       "      <td>NaN</td>\n",
       "      <td>Apr-2016</td>\n",
       "    </tr>\n",
       "  </tbody>\n",
       "</table>\n",
       "<p>607470 rows × 5 columns</p>\n",
       "</div>"
      ],
      "text/plain": [
       "         issue_d earliest_cr_line last_pymnt_d next_pymnt_d last_credit_pull_d\n",
       "292199  Jul-2016         Mar-1993     Aug-2017          NaN           Dec-2017\n",
       "105150  Apr-2017         Jun-2005     Dec-2017     Jan-2018           Dec-2017\n",
       "20468   Jun-2017         Oct-2013     Dec-2017     Jan-2018           Dec-2017\n",
       "51794   May-2017         May-2000     Dec-2017     Jan-2018           Dec-2017\n",
       "240190  Aug-2016         May-2002     Dec-2017     Jan-2018           Dec-2017\n",
       "...          ...              ...          ...          ...                ...\n",
       "67465   May-2017         Apr-2003     Dec-2017     Jan-2018           Dec-2017\n",
       "376057  Aug-2017         May-2006     Dec-2017     Jan-2018           Dec-2017\n",
       "580549  Nov-2016         May-1996     May-2017          NaN           Sep-2017\n",
       "562964  Nov-2016         Jul-2002     Dec-2017     Jan-2018           Dec-2017\n",
       "502585  Apr-2016         Jul-2004     Apr-2016          NaN           Apr-2016\n",
       "\n",
       "[607470 rows x 5 columns]"
      ]
     },
     "execution_count": 29,
     "metadata": {},
     "output_type": "execute_result"
    }
   ],
   "source": [
    "col_date = ['issue_d', 'earliest_cr_line','last_pymnt_d', 'next_pymnt_d', 'last_credit_pull_d' ]\n",
    "\n",
    "X_train[col_date]"
   ]
  },
  {
   "cell_type": "code",
   "execution_count": 30,
   "metadata": {},
   "outputs": [
    {
     "data": {
      "text/plain": [
       "292199   2016-07-01\n",
       "105150   2017-04-01\n",
       "20468    2017-06-01\n",
       "51794    2017-05-01\n",
       "240190   2016-08-01\n",
       "            ...    \n",
       "67465    2017-05-01\n",
       "376057   2017-08-01\n",
       "580549   2016-11-01\n",
       "562964   2016-11-01\n",
       "502585   2016-04-01\n",
       "Name: issue_d, Length: 607470, dtype: datetime64[ns]"
      ]
     },
     "execution_count": 30,
     "metadata": {},
     "output_type": "execute_result"
    }
   ],
   "source": [
    "X_train['issue_d'] = pd.to_datetime(X_train['issue_d'])\n",
    "X_train['issue_d']"
   ]
  },
  {
   "cell_type": "code",
   "execution_count": 31,
   "metadata": {},
   "outputs": [
    {
     "data": {
      "text/html": [
       "<div>\n",
       "<style scoped>\n",
       "    .dataframe tbody tr th:only-of-type {\n",
       "        vertical-align: middle;\n",
       "    }\n",
       "\n",
       "    .dataframe tbody tr th {\n",
       "        vertical-align: top;\n",
       "    }\n",
       "\n",
       "    .dataframe thead th {\n",
       "        text-align: right;\n",
       "    }\n",
       "</style>\n",
       "<table border=\"1\" class=\"dataframe\">\n",
       "  <thead>\n",
       "    <tr style=\"text-align: right;\">\n",
       "      <th></th>\n",
       "      <th>issue_d</th>\n",
       "      <th>earliest_cr_line</th>\n",
       "      <th>last_pymnt_d</th>\n",
       "      <th>next_pymnt_d</th>\n",
       "      <th>last_credit_pull_d</th>\n",
       "    </tr>\n",
       "  </thead>\n",
       "  <tbody>\n",
       "    <tr>\n",
       "      <th>292199</th>\n",
       "      <td>2016-07-01</td>\n",
       "      <td>1993-03-01</td>\n",
       "      <td>2017-08-01</td>\n",
       "      <td>NaT</td>\n",
       "      <td>2017-12-01</td>\n",
       "    </tr>\n",
       "    <tr>\n",
       "      <th>105150</th>\n",
       "      <td>2017-04-01</td>\n",
       "      <td>2005-06-01</td>\n",
       "      <td>2017-12-01</td>\n",
       "      <td>2018-01-01</td>\n",
       "      <td>2017-12-01</td>\n",
       "    </tr>\n",
       "    <tr>\n",
       "      <th>20468</th>\n",
       "      <td>2017-06-01</td>\n",
       "      <td>2013-10-01</td>\n",
       "      <td>2017-12-01</td>\n",
       "      <td>2018-01-01</td>\n",
       "      <td>2017-12-01</td>\n",
       "    </tr>\n",
       "    <tr>\n",
       "      <th>51794</th>\n",
       "      <td>2017-05-01</td>\n",
       "      <td>2000-05-01</td>\n",
       "      <td>2017-12-01</td>\n",
       "      <td>2018-01-01</td>\n",
       "      <td>2017-12-01</td>\n",
       "    </tr>\n",
       "    <tr>\n",
       "      <th>240190</th>\n",
       "      <td>2016-08-01</td>\n",
       "      <td>2002-05-01</td>\n",
       "      <td>2017-12-01</td>\n",
       "      <td>2018-01-01</td>\n",
       "      <td>2017-12-01</td>\n",
       "    </tr>\n",
       "    <tr>\n",
       "      <th>...</th>\n",
       "      <td>...</td>\n",
       "      <td>...</td>\n",
       "      <td>...</td>\n",
       "      <td>...</td>\n",
       "      <td>...</td>\n",
       "    </tr>\n",
       "    <tr>\n",
       "      <th>67465</th>\n",
       "      <td>2017-05-01</td>\n",
       "      <td>2003-04-01</td>\n",
       "      <td>2017-12-01</td>\n",
       "      <td>2018-01-01</td>\n",
       "      <td>2017-12-01</td>\n",
       "    </tr>\n",
       "    <tr>\n",
       "      <th>376057</th>\n",
       "      <td>2017-08-01</td>\n",
       "      <td>2006-05-01</td>\n",
       "      <td>2017-12-01</td>\n",
       "      <td>2018-01-01</td>\n",
       "      <td>2017-12-01</td>\n",
       "    </tr>\n",
       "    <tr>\n",
       "      <th>580549</th>\n",
       "      <td>2016-11-01</td>\n",
       "      <td>1996-05-01</td>\n",
       "      <td>2017-05-01</td>\n",
       "      <td>NaT</td>\n",
       "      <td>2017-09-01</td>\n",
       "    </tr>\n",
       "    <tr>\n",
       "      <th>562964</th>\n",
       "      <td>2016-11-01</td>\n",
       "      <td>2002-07-01</td>\n",
       "      <td>2017-12-01</td>\n",
       "      <td>2018-01-01</td>\n",
       "      <td>2017-12-01</td>\n",
       "    </tr>\n",
       "    <tr>\n",
       "      <th>502585</th>\n",
       "      <td>2016-04-01</td>\n",
       "      <td>2004-07-01</td>\n",
       "      <td>2016-04-01</td>\n",
       "      <td>NaT</td>\n",
       "      <td>2016-04-01</td>\n",
       "    </tr>\n",
       "  </tbody>\n",
       "</table>\n",
       "<p>607470 rows × 5 columns</p>\n",
       "</div>"
      ],
      "text/plain": [
       "          issue_d earliest_cr_line last_pymnt_d next_pymnt_d  \\\n",
       "292199 2016-07-01       1993-03-01   2017-08-01          NaT   \n",
       "105150 2017-04-01       2005-06-01   2017-12-01   2018-01-01   \n",
       "20468  2017-06-01       2013-10-01   2017-12-01   2018-01-01   \n",
       "51794  2017-05-01       2000-05-01   2017-12-01   2018-01-01   \n",
       "240190 2016-08-01       2002-05-01   2017-12-01   2018-01-01   \n",
       "...           ...              ...          ...          ...   \n",
       "67465  2017-05-01       2003-04-01   2017-12-01   2018-01-01   \n",
       "376057 2017-08-01       2006-05-01   2017-12-01   2018-01-01   \n",
       "580549 2016-11-01       1996-05-01   2017-05-01          NaT   \n",
       "562964 2016-11-01       2002-07-01   2017-12-01   2018-01-01   \n",
       "502585 2016-04-01       2004-07-01   2016-04-01          NaT   \n",
       "\n",
       "       last_credit_pull_d  \n",
       "292199         2017-12-01  \n",
       "105150         2017-12-01  \n",
       "20468          2017-12-01  \n",
       "51794          2017-12-01  \n",
       "240190         2017-12-01  \n",
       "...                   ...  \n",
       "67465          2017-12-01  \n",
       "376057         2017-12-01  \n",
       "580549         2017-09-01  \n",
       "562964         2017-12-01  \n",
       "502585         2016-04-01  \n",
       "\n",
       "[607470 rows x 5 columns]"
      ]
     },
     "execution_count": 31,
     "metadata": {},
     "output_type": "execute_result"
    }
   ],
   "source": [
    "for col in col_date:\n",
    "    X_train[col] = pd.to_datetime(X_train[col])\n",
    "    \n",
    "X_train[col_date]"
   ]
  },
  {
   "cell_type": "code",
   "execution_count": 32,
   "metadata": {},
   "outputs": [],
   "source": [
    "# Lakukan hal yang sama untuk X_test\n",
    "X_test['term'] = pd.to_numeric(X_test['term'].str.replace(' months', ''))\n"
   ]
  },
  {
   "cell_type": "code",
   "execution_count": 33,
   "metadata": {},
   "outputs": [],
   "source": [
    "\n",
    "X_test['emp_length'] = X_test['emp_length'].str.replace('\\+ years', '')\n",
    "X_test['emp_length'] = X_test['emp_length'].str.replace(' years', '')\n",
    "X_test['emp_length'] = X_test['emp_length'].str.replace('+', '')\n",
    "X_test['emp_length'] = X_test['emp_length'].str.replace('< 1 year', str(0))\n",
    "X_test['emp_length'] = X_test['emp_length'].str.replace(' year', '')\n",
    "\n",
    "X_test['emp_length'].fillna(value = 0, inplace=True)\n",
    "X_test['emp_length'].head()\n",
    "X_test['emp_length'] = pd.to_numeric(X_test['emp_length'])\n"
   ]
  },
  {
   "cell_type": "code",
   "execution_count": 34,
   "metadata": {},
   "outputs": [],
   "source": [
    "\n",
    "for col in col_date:\n",
    "    X_test[col] = pd.to_datetime(X_test[col])"
   ]
  },
  {
   "cell_type": "code",
   "execution_count": 35,
   "metadata": {},
   "outputs": [
    {
     "data": {
      "text/html": [
       "<div>\n",
       "<style scoped>\n",
       "    .dataframe tbody tr th:only-of-type {\n",
       "        vertical-align: middle;\n",
       "    }\n",
       "\n",
       "    .dataframe tbody tr th {\n",
       "        vertical-align: top;\n",
       "    }\n",
       "\n",
       "    .dataframe thead th {\n",
       "        text-align: right;\n",
       "    }\n",
       "</style>\n",
       "<table border=\"1\" class=\"dataframe\">\n",
       "  <thead>\n",
       "    <tr style=\"text-align: right;\">\n",
       "      <th></th>\n",
       "      <th>term</th>\n",
       "      <th>emp_length</th>\n",
       "      <th>issue_d</th>\n",
       "      <th>earliest_cr_line</th>\n",
       "      <th>last_pymnt_d</th>\n",
       "      <th>next_pymnt_d</th>\n",
       "      <th>last_credit_pull_d</th>\n",
       "    </tr>\n",
       "  </thead>\n",
       "  <tbody>\n",
       "    <tr>\n",
       "      <th>731928</th>\n",
       "      <td>36</td>\n",
       "      <td>2</td>\n",
       "      <td>2016-01-01</td>\n",
       "      <td>2003-08-01</td>\n",
       "      <td>2017-01-01</td>\n",
       "      <td>NaT</td>\n",
       "      <td>2017-06-01</td>\n",
       "    </tr>\n",
       "    <tr>\n",
       "      <th>490795</th>\n",
       "      <td>36</td>\n",
       "      <td>10</td>\n",
       "      <td>2016-04-01</td>\n",
       "      <td>2005-04-01</td>\n",
       "      <td>2017-11-01</td>\n",
       "      <td>2018-01-01</td>\n",
       "      <td>2017-12-01</td>\n",
       "    </tr>\n",
       "    <tr>\n",
       "      <th>1867</th>\n",
       "      <td>36</td>\n",
       "      <td>10</td>\n",
       "      <td>2017-06-01</td>\n",
       "      <td>1991-02-01</td>\n",
       "      <td>2017-12-01</td>\n",
       "      <td>2018-01-01</td>\n",
       "      <td>2017-12-01</td>\n",
       "    </tr>\n",
       "    <tr>\n",
       "      <th>21621</th>\n",
       "      <td>60</td>\n",
       "      <td>2</td>\n",
       "      <td>2017-06-01</td>\n",
       "      <td>1990-05-01</td>\n",
       "      <td>2017-12-01</td>\n",
       "      <td>2018-01-01</td>\n",
       "      <td>2017-12-01</td>\n",
       "    </tr>\n",
       "    <tr>\n",
       "      <th>206820</th>\n",
       "      <td>60</td>\n",
       "      <td>2</td>\n",
       "      <td>2016-09-01</td>\n",
       "      <td>2005-12-01</td>\n",
       "      <td>2017-12-01</td>\n",
       "      <td>2018-01-01</td>\n",
       "      <td>2017-12-01</td>\n",
       "    </tr>\n",
       "    <tr>\n",
       "      <th>...</th>\n",
       "      <td>...</td>\n",
       "      <td>...</td>\n",
       "      <td>...</td>\n",
       "      <td>...</td>\n",
       "      <td>...</td>\n",
       "      <td>...</td>\n",
       "      <td>...</td>\n",
       "    </tr>\n",
       "    <tr>\n",
       "      <th>427665</th>\n",
       "      <td>60</td>\n",
       "      <td>10</td>\n",
       "      <td>2016-06-01</td>\n",
       "      <td>2000-08-01</td>\n",
       "      <td>2017-12-01</td>\n",
       "      <td>2018-01-01</td>\n",
       "      <td>2017-12-01</td>\n",
       "    </tr>\n",
       "    <tr>\n",
       "      <th>577833</th>\n",
       "      <td>36</td>\n",
       "      <td>9</td>\n",
       "      <td>2016-11-01</td>\n",
       "      <td>2006-02-01</td>\n",
       "      <td>2017-10-01</td>\n",
       "      <td>2018-01-01</td>\n",
       "      <td>2017-12-01</td>\n",
       "    </tr>\n",
       "    <tr>\n",
       "      <th>378099</th>\n",
       "      <td>36</td>\n",
       "      <td>10</td>\n",
       "      <td>2017-08-01</td>\n",
       "      <td>1987-09-01</td>\n",
       "      <td>2017-12-01</td>\n",
       "      <td>2018-01-01</td>\n",
       "      <td>2017-12-01</td>\n",
       "    </tr>\n",
       "    <tr>\n",
       "      <th>316886</th>\n",
       "      <td>36</td>\n",
       "      <td>2</td>\n",
       "      <td>2017-09-01</td>\n",
       "      <td>2006-11-01</td>\n",
       "      <td>2017-12-01</td>\n",
       "      <td>2018-01-01</td>\n",
       "      <td>2017-12-01</td>\n",
       "    </tr>\n",
       "    <tr>\n",
       "      <th>498235</th>\n",
       "      <td>36</td>\n",
       "      <td>6</td>\n",
       "      <td>2016-04-01</td>\n",
       "      <td>1998-10-01</td>\n",
       "      <td>2017-08-01</td>\n",
       "      <td>NaT</td>\n",
       "      <td>2017-08-01</td>\n",
       "    </tr>\n",
       "  </tbody>\n",
       "</table>\n",
       "<p>151868 rows × 7 columns</p>\n",
       "</div>"
      ],
      "text/plain": [
       "        term  emp_length    issue_d earliest_cr_line last_pymnt_d  \\\n",
       "731928    36           2 2016-01-01       2003-08-01   2017-01-01   \n",
       "490795    36          10 2016-04-01       2005-04-01   2017-11-01   \n",
       "1867      36          10 2017-06-01       1991-02-01   2017-12-01   \n",
       "21621     60           2 2017-06-01       1990-05-01   2017-12-01   \n",
       "206820    60           2 2016-09-01       2005-12-01   2017-12-01   \n",
       "...      ...         ...        ...              ...          ...   \n",
       "427665    60          10 2016-06-01       2000-08-01   2017-12-01   \n",
       "577833    36           9 2016-11-01       2006-02-01   2017-10-01   \n",
       "378099    36          10 2017-08-01       1987-09-01   2017-12-01   \n",
       "316886    36           2 2017-09-01       2006-11-01   2017-12-01   \n",
       "498235    36           6 2016-04-01       1998-10-01   2017-08-01   \n",
       "\n",
       "       next_pymnt_d last_credit_pull_d  \n",
       "731928          NaT         2017-06-01  \n",
       "490795   2018-01-01         2017-12-01  \n",
       "1867     2018-01-01         2017-12-01  \n",
       "21621    2018-01-01         2017-12-01  \n",
       "206820   2018-01-01         2017-12-01  \n",
       "...             ...                ...  \n",
       "427665   2018-01-01         2017-12-01  \n",
       "577833   2018-01-01         2017-12-01  \n",
       "378099   2018-01-01         2017-12-01  \n",
       "316886   2018-01-01         2017-12-01  \n",
       "498235          NaT         2017-08-01  \n",
       "\n",
       "[151868 rows x 7 columns]"
      ]
     },
     "execution_count": 35,
     "metadata": {},
     "output_type": "execute_result"
    }
   ],
   "source": [
    "# X_test['term']\n",
    "# X_test['emp_length']\n",
    "\n",
    "# Checking\n",
    "X_test[col_to_clean]\n",
    "# X_train[col_to_clean].info()\n",
    "\n",
    "\n"
   ]
  },
  {
   "cell_type": "markdown",
   "metadata": {},
   "source": [
    "### Modelling"
   ]
  },
  {
   "cell_type": "code",
   "execution_count": 36,
   "metadata": {},
   "outputs": [
    {
     "data": {
      "text/plain": [
       "['term',\n",
       " 'emp_length',\n",
       " 'issue_d',\n",
       " 'earliest_cr_line',\n",
       " 'last_pymnt_d',\n",
       " 'next_pymnt_d',\n",
       " 'last_credit_pull_d']"
      ]
     },
     "execution_count": 36,
     "metadata": {},
     "output_type": "execute_result"
    }
   ],
   "source": [
    "col_to_clean"
   ]
  },
  {
   "cell_type": "code",
   "execution_count": 37,
   "metadata": {},
   "outputs": [],
   "source": [
    "X_train = X_train[col_to_clean]\n",
    "X_test = X_test[col_to_clean]"
   ]
  },
  {
   "cell_type": "code",
   "execution_count": 38,
   "metadata": {},
   "outputs": [
    {
     "data": {
      "text/plain": [
       "((607470, 7), (151868, 7))"
      ]
     },
     "execution_count": 38,
     "metadata": {},
     "output_type": "execute_result"
    }
   ],
   "source": [
    "# del X_train['next_pymnt_d']\n",
    "# del X_test['next_pymnt_d']\n",
    "\n",
    "X_train.shape, X_test.shape"
   ]
  },
  {
   "cell_type": "code",
   "execution_count": 39,
   "metadata": {},
   "outputs": [
    {
     "data": {
      "text/html": [
       "<div>\n",
       "<style scoped>\n",
       "    .dataframe tbody tr th:only-of-type {\n",
       "        vertical-align: middle;\n",
       "    }\n",
       "\n",
       "    .dataframe tbody tr th {\n",
       "        vertical-align: top;\n",
       "    }\n",
       "\n",
       "    .dataframe thead th {\n",
       "        text-align: right;\n",
       "    }\n",
       "</style>\n",
       "<table border=\"1\" class=\"dataframe\">\n",
       "  <thead>\n",
       "    <tr style=\"text-align: right;\">\n",
       "      <th></th>\n",
       "      <th>term</th>\n",
       "      <th>emp_length</th>\n",
       "      <th>issue_d</th>\n",
       "      <th>earliest_cr_line</th>\n",
       "      <th>last_pymnt_d</th>\n",
       "      <th>next_pymnt_d</th>\n",
       "      <th>last_credit_pull_d</th>\n",
       "    </tr>\n",
       "  </thead>\n",
       "  <tbody>\n",
       "    <tr>\n",
       "      <th>292199</th>\n",
       "      <td>36</td>\n",
       "      <td>4</td>\n",
       "      <td>2016-07-01</td>\n",
       "      <td>1993-03-01</td>\n",
       "      <td>2017-08-01</td>\n",
       "      <td>NaT</td>\n",
       "      <td>2017-12-01</td>\n",
       "    </tr>\n",
       "    <tr>\n",
       "      <th>105150</th>\n",
       "      <td>36</td>\n",
       "      <td>6</td>\n",
       "      <td>2017-04-01</td>\n",
       "      <td>2005-06-01</td>\n",
       "      <td>2017-12-01</td>\n",
       "      <td>2018-01-01</td>\n",
       "      <td>2017-12-01</td>\n",
       "    </tr>\n",
       "    <tr>\n",
       "      <th>20468</th>\n",
       "      <td>36</td>\n",
       "      <td>1</td>\n",
       "      <td>2017-06-01</td>\n",
       "      <td>2013-10-01</td>\n",
       "      <td>2017-12-01</td>\n",
       "      <td>2018-01-01</td>\n",
       "      <td>2017-12-01</td>\n",
       "    </tr>\n",
       "    <tr>\n",
       "      <th>51794</th>\n",
       "      <td>36</td>\n",
       "      <td>10</td>\n",
       "      <td>2017-05-01</td>\n",
       "      <td>2000-05-01</td>\n",
       "      <td>2017-12-01</td>\n",
       "      <td>2018-01-01</td>\n",
       "      <td>2017-12-01</td>\n",
       "    </tr>\n",
       "    <tr>\n",
       "      <th>240190</th>\n",
       "      <td>36</td>\n",
       "      <td>10</td>\n",
       "      <td>2016-08-01</td>\n",
       "      <td>2002-05-01</td>\n",
       "      <td>2017-12-01</td>\n",
       "      <td>2018-01-01</td>\n",
       "      <td>2017-12-01</td>\n",
       "    </tr>\n",
       "  </tbody>\n",
       "</table>\n",
       "</div>"
      ],
      "text/plain": [
       "        term  emp_length    issue_d earliest_cr_line last_pymnt_d  \\\n",
       "292199    36           4 2016-07-01       1993-03-01   2017-08-01   \n",
       "105150    36           6 2017-04-01       2005-06-01   2017-12-01   \n",
       "20468     36           1 2017-06-01       2013-10-01   2017-12-01   \n",
       "51794     36          10 2017-05-01       2000-05-01   2017-12-01   \n",
       "240190    36          10 2016-08-01       2002-05-01   2017-12-01   \n",
       "\n",
       "       next_pymnt_d last_credit_pull_d  \n",
       "292199          NaT         2017-12-01  \n",
       "105150   2018-01-01         2017-12-01  \n",
       "20468    2018-01-01         2017-12-01  \n",
       "51794    2018-01-01         2017-12-01  \n",
       "240190   2018-01-01         2017-12-01  "
      ]
     },
     "execution_count": 39,
     "metadata": {},
     "output_type": "execute_result"
    }
   ],
   "source": [
    "X_train.head()"
   ]
  },
  {
   "cell_type": "markdown",
   "metadata": {},
   "source": [
    "Feature Engineering"
   ]
  },
  {
   "cell_type": "code",
   "execution_count": 40,
   "metadata": {},
   "outputs": [
    {
     "data": {
      "text/plain": [
       "'2024-09-03'"
      ]
     },
     "execution_count": 40,
     "metadata": {},
     "output_type": "execute_result"
    }
   ],
   "source": [
    "#change data type to numeric\n",
    "\n",
    "from datetime import date\n",
    "\n",
    "date.today().strftime(\"%Y-%m-%d\")"
   ]
  },
  {
   "cell_type": "code",
   "execution_count": 52,
   "metadata": {},
   "outputs": [],
   "source": [
    "def date_col(df, column):\n",
    "    today_data = pd.to_datetime(date.today().strftime(\"%Y-%m-%d\"))\n",
    "\n",
    "    # Fungsi untuk menghitung jumlah bulan antara dua tanggal\n",
    "    def calculate_month_diff(start_date, end_date):\n",
    "        return (end_date.year - start_date.year) * 12 + end_date.month - start_date.month\n",
    "\n",
    "    # Menerapkan fungsi calculate_month_diff untuk setiap nilai pada kolom\n",
    "    df['mths_since_' + column] = df[column].apply(lambda x: calculate_month_diff(pd.to_datetime(x), today_data))\n",
    "\n",
    "    # Menghapus kolom asli\n",
    "    df.drop(columns=[column], inplace=True)\n",
    "\n",
    "    \n",
    "#apply to x train\n",
    "\n",
    "date_col(X_train, 'issue_d')\n",
    "date_col(X_train, 'earliest_cr_line')\n",
    "date_col(X_train, 'last_pymnt_d')\n",
    "date_col(X_train, 'last_credit_pull_d')\n",
    "\n",
    "# apply to x test\n",
    "\n",
    "date_col(X_test, 'issue_d')\n",
    "date_col(X_test, 'earliest_cr_line')\n",
    "date_col(X_test, 'last_pymnt_d')\n",
    "date_col(X_test, 'last_credit_pull_d')"
   ]
  },
  {
   "cell_type": "code",
   "execution_count": 53,
   "metadata": {},
   "outputs": [
    {
     "data": {
      "text/plain": [
       "Timedelta('2771 days 00:00:00')"
      ]
     },
     "execution_count": 53,
     "metadata": {},
     "output_type": "execute_result"
    }
   ],
   "source": [
    "pd.to_datetime(date.today().strftime(\"%Y-%m-%d\")) - pd.to_datetime('2017-02-01')\n",
    "\n"
   ]
  },
  {
   "cell_type": "code",
   "execution_count": 55,
   "metadata": {},
   "outputs": [],
   "source": [
    "X_test.drop(columns=['next_pymnt_d'], inplace=True)\n",
    "X_train.drop(columns=['next_pymnt_d'], inplace=True)"
   ]
  },
  {
   "cell_type": "code",
   "execution_count": 56,
   "metadata": {},
   "outputs": [
    {
     "data": {
      "text/html": [
       "<div>\n",
       "<style scoped>\n",
       "    .dataframe tbody tr th:only-of-type {\n",
       "        vertical-align: middle;\n",
       "    }\n",
       "\n",
       "    .dataframe tbody tr th {\n",
       "        vertical-align: top;\n",
       "    }\n",
       "\n",
       "    .dataframe thead th {\n",
       "        text-align: right;\n",
       "    }\n",
       "</style>\n",
       "<table border=\"1\" class=\"dataframe\">\n",
       "  <thead>\n",
       "    <tr style=\"text-align: right;\">\n",
       "      <th></th>\n",
       "      <th>term</th>\n",
       "      <th>emp_length</th>\n",
       "      <th>mths_since_issue_d</th>\n",
       "      <th>mths_since_earliest_cr_line</th>\n",
       "      <th>mths_since_last_pymnt_d</th>\n",
       "      <th>mths_since_last_credit_pull_d</th>\n",
       "    </tr>\n",
       "  </thead>\n",
       "  <tbody>\n",
       "    <tr>\n",
       "      <th>731928</th>\n",
       "      <td>36</td>\n",
       "      <td>2</td>\n",
       "      <td>104</td>\n",
       "      <td>253</td>\n",
       "      <td>92</td>\n",
       "      <td>87</td>\n",
       "    </tr>\n",
       "    <tr>\n",
       "      <th>490795</th>\n",
       "      <td>36</td>\n",
       "      <td>10</td>\n",
       "      <td>101</td>\n",
       "      <td>233</td>\n",
       "      <td>82</td>\n",
       "      <td>81</td>\n",
       "    </tr>\n",
       "    <tr>\n",
       "      <th>1867</th>\n",
       "      <td>36</td>\n",
       "      <td>10</td>\n",
       "      <td>87</td>\n",
       "      <td>403</td>\n",
       "      <td>81</td>\n",
       "      <td>81</td>\n",
       "    </tr>\n",
       "    <tr>\n",
       "      <th>21621</th>\n",
       "      <td>60</td>\n",
       "      <td>2</td>\n",
       "      <td>87</td>\n",
       "      <td>412</td>\n",
       "      <td>81</td>\n",
       "      <td>81</td>\n",
       "    </tr>\n",
       "    <tr>\n",
       "      <th>206820</th>\n",
       "      <td>60</td>\n",
       "      <td>2</td>\n",
       "      <td>96</td>\n",
       "      <td>225</td>\n",
       "      <td>81</td>\n",
       "      <td>81</td>\n",
       "    </tr>\n",
       "    <tr>\n",
       "      <th>...</th>\n",
       "      <td>...</td>\n",
       "      <td>...</td>\n",
       "      <td>...</td>\n",
       "      <td>...</td>\n",
       "      <td>...</td>\n",
       "      <td>...</td>\n",
       "    </tr>\n",
       "    <tr>\n",
       "      <th>427665</th>\n",
       "      <td>60</td>\n",
       "      <td>10</td>\n",
       "      <td>99</td>\n",
       "      <td>289</td>\n",
       "      <td>81</td>\n",
       "      <td>81</td>\n",
       "    </tr>\n",
       "    <tr>\n",
       "      <th>577833</th>\n",
       "      <td>36</td>\n",
       "      <td>9</td>\n",
       "      <td>94</td>\n",
       "      <td>223</td>\n",
       "      <td>83</td>\n",
       "      <td>81</td>\n",
       "    </tr>\n",
       "    <tr>\n",
       "      <th>378099</th>\n",
       "      <td>36</td>\n",
       "      <td>10</td>\n",
       "      <td>85</td>\n",
       "      <td>444</td>\n",
       "      <td>81</td>\n",
       "      <td>81</td>\n",
       "    </tr>\n",
       "    <tr>\n",
       "      <th>316886</th>\n",
       "      <td>36</td>\n",
       "      <td>2</td>\n",
       "      <td>84</td>\n",
       "      <td>214</td>\n",
       "      <td>81</td>\n",
       "      <td>81</td>\n",
       "    </tr>\n",
       "    <tr>\n",
       "      <th>498235</th>\n",
       "      <td>36</td>\n",
       "      <td>6</td>\n",
       "      <td>101</td>\n",
       "      <td>311</td>\n",
       "      <td>85</td>\n",
       "      <td>85</td>\n",
       "    </tr>\n",
       "  </tbody>\n",
       "</table>\n",
       "<p>151868 rows × 6 columns</p>\n",
       "</div>"
      ],
      "text/plain": [
       "        term  emp_length  mths_since_issue_d  mths_since_earliest_cr_line  \\\n",
       "731928    36           2                 104                          253   \n",
       "490795    36          10                 101                          233   \n",
       "1867      36          10                  87                          403   \n",
       "21621     60           2                  87                          412   \n",
       "206820    60           2                  96                          225   \n",
       "...      ...         ...                 ...                          ...   \n",
       "427665    60          10                  99                          289   \n",
       "577833    36           9                  94                          223   \n",
       "378099    36          10                  85                          444   \n",
       "316886    36           2                  84                          214   \n",
       "498235    36           6                 101                          311   \n",
       "\n",
       "        mths_since_last_pymnt_d  mths_since_last_credit_pull_d  \n",
       "731928                       92                             87  \n",
       "490795                       82                             81  \n",
       "1867                         81                             81  \n",
       "21621                        81                             81  \n",
       "206820                       81                             81  \n",
       "...                         ...                            ...  \n",
       "427665                       81                             81  \n",
       "577833                       83                             81  \n",
       "378099                       81                             81  \n",
       "316886                       81                             81  \n",
       "498235                       85                             85  \n",
       "\n",
       "[151868 rows x 6 columns]"
      ]
     },
     "execution_count": 56,
     "metadata": {},
     "output_type": "execute_result"
    }
   ],
   "source": [
    "X_test"
   ]
  },
  {
   "cell_type": "code",
   "execution_count": 57,
   "metadata": {},
   "outputs": [
    {
     "data": {
      "text/plain": [
       "term                             0\n",
       "emp_length                       0\n",
       "mths_since_issue_d               0\n",
       "mths_since_earliest_cr_line      0\n",
       "mths_since_last_pymnt_d          0\n",
       "mths_since_last_credit_pull_d    0\n",
       "dtype: int64"
      ]
     },
     "execution_count": 57,
     "metadata": {},
     "output_type": "execute_result"
    }
   ],
   "source": [
    "X_test.isnull().sum()\n",
    "# X_train.isnull().sum()"
   ]
  },
  {
   "cell_type": "code",
   "execution_count": 58,
   "metadata": {},
   "outputs": [],
   "source": [
    "#Handle Missing Value\n",
    "\n",
    "X_train.fillna(X_train.median(), inplace= True)\n",
    "X_test.fillna(X_test.median(), inplace= True)"
   ]
  },
  {
   "cell_type": "markdown",
   "metadata": {},
   "source": [
    "### Accuracy Checked\n"
   ]
  },
  {
   "cell_type": "code",
   "execution_count": 59,
   "metadata": {},
   "outputs": [],
   "source": [
    "from sklearn.linear_model import LogisticRegression"
   ]
  },
  {
   "cell_type": "code",
   "execution_count": 60,
   "metadata": {},
   "outputs": [],
   "source": [
    "model = LogisticRegression()\n",
    "    "
   ]
  },
  {
   "cell_type": "code",
   "execution_count": 61,
   "metadata": {},
   "outputs": [],
   "source": [
    "model.fit(X_train, y_train)\n",
    "y_pred = model.predict(X_test)"
   ]
  },
  {
   "cell_type": "code",
   "execution_count": 62,
   "metadata": {},
   "outputs": [
    {
     "data": {
      "text/html": [
       "<div>\n",
       "<style scoped>\n",
       "    .dataframe tbody tr th:only-of-type {\n",
       "        vertical-align: middle;\n",
       "    }\n",
       "\n",
       "    .dataframe tbody tr th {\n",
       "        vertical-align: top;\n",
       "    }\n",
       "\n",
       "    .dataframe thead th {\n",
       "        text-align: right;\n",
       "    }\n",
       "</style>\n",
       "<table border=\"1\" class=\"dataframe\">\n",
       "  <thead>\n",
       "    <tr style=\"text-align: right;\">\n",
       "      <th></th>\n",
       "      <th>y_pred</th>\n",
       "      <th>y_test</th>\n",
       "    </tr>\n",
       "  </thead>\n",
       "  <tbody>\n",
       "    <tr>\n",
       "      <th>0</th>\n",
       "      <td>0</td>\n",
       "      <td>0</td>\n",
       "    </tr>\n",
       "    <tr>\n",
       "      <th>1</th>\n",
       "      <td>0</td>\n",
       "      <td>0</td>\n",
       "    </tr>\n",
       "    <tr>\n",
       "      <th>2</th>\n",
       "      <td>0</td>\n",
       "      <td>0</td>\n",
       "    </tr>\n",
       "    <tr>\n",
       "      <th>3</th>\n",
       "      <td>0</td>\n",
       "      <td>0</td>\n",
       "    </tr>\n",
       "    <tr>\n",
       "      <th>4</th>\n",
       "      <td>0</td>\n",
       "      <td>0</td>\n",
       "    </tr>\n",
       "    <tr>\n",
       "      <th>...</th>\n",
       "      <td>...</td>\n",
       "      <td>...</td>\n",
       "    </tr>\n",
       "    <tr>\n",
       "      <th>151863</th>\n",
       "      <td>0</td>\n",
       "      <td>0</td>\n",
       "    </tr>\n",
       "    <tr>\n",
       "      <th>151864</th>\n",
       "      <td>0</td>\n",
       "      <td>1</td>\n",
       "    </tr>\n",
       "    <tr>\n",
       "      <th>151865</th>\n",
       "      <td>0</td>\n",
       "      <td>0</td>\n",
       "    </tr>\n",
       "    <tr>\n",
       "      <th>151866</th>\n",
       "      <td>0</td>\n",
       "      <td>0</td>\n",
       "    </tr>\n",
       "    <tr>\n",
       "      <th>151867</th>\n",
       "      <td>0</td>\n",
       "      <td>0</td>\n",
       "    </tr>\n",
       "  </tbody>\n",
       "</table>\n",
       "<p>151868 rows × 2 columns</p>\n",
       "</div>"
      ],
      "text/plain": [
       "        y_pred  y_test\n",
       "0            0       0\n",
       "1            0       0\n",
       "2            0       0\n",
       "3            0       0\n",
       "4            0       0\n",
       "...        ...     ...\n",
       "151863       0       0\n",
       "151864       0       1\n",
       "151865       0       0\n",
       "151866       0       0\n",
       "151867       0       0\n",
       "\n",
       "[151868 rows x 2 columns]"
      ]
     },
     "execution_count": 62,
     "metadata": {},
     "output_type": "execute_result"
    }
   ],
   "source": [
    "result = pd.DataFrame(list(zip(y_pred,y_test)), columns=['y_pred', 'y_test'])\n",
    "result\n"
   ]
  },
  {
   "cell_type": "code",
   "execution_count": 63,
   "metadata": {},
   "outputs": [
    {
     "data": {
      "text/plain": [
       "0.9746753759844076"
      ]
     },
     "execution_count": 63,
     "metadata": {},
     "output_type": "execute_result"
    }
   ],
   "source": [
    "from sklearn.metrics import accuracy_score\n",
    "\n",
    "accuracy_score(y_test, y_pred)"
   ]
  },
  {
   "cell_type": "code",
   "execution_count": 64,
   "metadata": {},
   "outputs": [
    {
     "data": {
      "text/plain": [
       "Text(50.722222222222214, 0.5, 'y_test')"
      ]
     },
     "execution_count": 64,
     "metadata": {},
     "output_type": "execute_result"
    },
    {
     "data": {
      "image/png": "[encoded data removed]",
      "text/plain": [
       "<Figure size 640x480 with 2 Axes>"
      ]
     },
     "metadata": {},
     "output_type": "display_data"
    }
   ],
   "source": [
    "from sklearn.metrics import confusion_matrix\n",
    "import matplotlib.pyplot as plt\n",
    "import seaborn as sns\n",
    "\n",
    "cm = confusion_matrix(y_test, y_pred)\n",
    "\n",
    "sns.heatmap(cm, annot=True, fmt='.0f', cmap=plt.cm.Blues)\n",
    "plt.xlabel('y_pred')\n",
    "plt.ylabel('y_test')"
   ]
  },
  {
   "cell_type": "code",
   "execution_count": 65,
   "metadata": {},
   "outputs": [
    {
     "data": {
      "text/plain": [
       "good_bad\n",
       "0    0.974675\n",
       "1    0.025325\n",
       "Name: proportion, dtype: float64"
      ]
     },
     "execution_count": 65,
     "metadata": {},
     "output_type": "execute_result"
    }
   ],
   "source": [
    "y_train.value_counts(normalize=True)"
   ]
  },
  {
   "cell_type": "markdown",
   "metadata": {},
   "source": [
    "### Modelling II"
   ]
  },
  {
   "cell_type": "code",
   "execution_count": 66,
   "metadata": {},
   "outputs": [
    {
     "data": {
      "text/plain": [
       "array([0, 0, 0, ..., 0, 0, 0])"
      ]
     },
     "execution_count": 66,
     "metadata": {},
     "output_type": "execute_result"
    }
   ],
   "source": [
    "model.predict(X_test)"
   ]
  },
  {
   "cell_type": "code",
   "execution_count": 71,
   "metadata": {},
   "outputs": [],
   "source": [
    "y_pred = model.predict_proba(X_test)[:, 1]\n",
    "\n",
    "#labelling column output\n",
    "\n",
    "# model = pd.DataFrame(model.predict_proba(X_test), columns=['good', 'bad'])"
   ]
  },
  {
   "cell_type": "code",
   "execution_count": 72,
   "metadata": {},
   "outputs": [
    {
     "data": {
      "text/plain": [
       "array([0.0076068 , 0.02912198, 0.01683544, ..., 0.01548859, 0.02269322,\n",
       "       0.00793876])"
      ]
     },
     "execution_count": 72,
     "metadata": {},
     "output_type": "execute_result"
    }
   ],
   "source": [
    "y_pred"
   ]
  },
  {
   "cell_type": "code",
   "execution_count": 81,
   "metadata": {},
   "outputs": [
    {
     "data": {
      "text/plain": [
       "array([0, 0, 0, ..., 0, 0, 0])"
      ]
     },
     "execution_count": 81,
     "metadata": {},
     "output_type": "execute_result"
    }
   ],
   "source": [
    "(y_pred > 0.5).astype(int)"
   ]
  },
  {
   "cell_type": "code",
   "execution_count": 82,
   "metadata": {},
   "outputs": [
    {
     "data": {
      "text/plain": [
       "(array([3.40430e+04, 1.08181e+05, 6.34500e+03, 1.84900e+03, 8.37000e+02,\n",
       "        3.88000e+02, 1.72000e+02, 4.50000e+01, 5.00000e+00, 3.00000e+00]),\n",
       " array([4.11195925e-06, 1.96628209e-02, 3.93215299e-02, 5.89802388e-02,\n",
       "        7.86389478e-02, 9.82976568e-02, 1.17956366e-01, 1.37615075e-01,\n",
       "        1.57273784e-01, 1.76932493e-01, 1.96591202e-01]),\n",
       " <BarContainer object of 10 artists>)"
      ]
     },
     "execution_count": 82,
     "metadata": {},
     "output_type": "execute_result"
    },
    {
     "data": {
      "image/png": "[encoded data removed]",
      "text/plain": [
       "<Figure size 640x480 with 1 Axes>"
      ]
     },
     "metadata": {},
     "output_type": "display_data"
    }
   ],
   "source": [
    "plt.hist(y_pred)"
   ]
  },
  {
   "cell_type": "markdown",
   "metadata": {},
   "source": [
    "threshold"
   ]
  },
  {
   "cell_type": "code",
   "execution_count": 83,
   "metadata": {},
   "outputs": [
    {
     "data": {
      "text/plain": [
       "array([           inf, 1.96591202e-01, 1.11848694e-01, ...,\n",
       "       1.02519235e-04, 1.02361613e-04, 4.11195925e-06])"
      ]
     },
     "execution_count": 83,
     "metadata": {},
     "output_type": "execute_result"
    }
   ],
   "source": [
    "from sklearn.metrics import roc_curve\n",
    "\n",
    "fpr, tpr, thresholds = roc_curve(y_test, y_pred)\n",
    "\n",
    "thresholds"
   ]
  },
  {
   "cell_type": "code",
   "execution_count": 84,
   "metadata": {},
   "outputs": [
    {
     "data": {
      "text/plain": [
       "0.026482689996261414"
      ]
     },
     "execution_count": 84,
     "metadata": {},
     "output_type": "execute_result"
    }
   ],
   "source": [
    "#youden j static\n",
    "\n",
    "j = tpr - fpr\n",
    "\n",
    "ix = np.argmax(j)\n",
    "best_thresh = thresholds[ix]\n",
    "best_thresh"
   ]
  },
  {
   "cell_type": "code",
   "execution_count": 93,
   "metadata": {},
   "outputs": [],
   "source": [
    "y_pred = model.predict_proba(X_test)[:, 1]\n",
    "y_pred = (y_pred> 0.027).astype(int)"
   ]
  },
  {
   "cell_type": "code",
   "execution_count": 94,
   "metadata": {},
   "outputs": [
    {
     "data": {
      "text/plain": [
       "Text(50.722222222222214, 0.5, 'y_test')"
      ]
     },
     "execution_count": 94,
     "metadata": {},
     "output_type": "execute_result"
    },
    {
     "data": {
      "image/png": "[encoded data removed]",
      "text/plain": [
       "<Figure size 640x480 with 2 Axes>"
      ]
     },
     "metadata": {},
     "output_type": "display_data"
    }
   ],
   "source": [
    "cm = confusion_matrix(y_test, y_pred)\n",
    "\n",
    "sns.heatmap(cm, annot=True, fmt='.0f', cmap=plt.cm.Blues)\n",
    "plt.xlabel('y_pred')\n",
    "plt.ylabel('y_test')"
   ]
  },
  {
   "cell_type": "markdown",
   "metadata": {},
   "source": [
    "logistic regresion"
   ]
  },
  {
   "cell_type": "code",
   "execution_count": 95,
   "metadata": {},
   "outputs": [
    {
     "data": {
      "text/plain": [
       "array([[ 0.00744451, -0.02539607,  0.02367479, -0.00091223,  0.07405614,\n",
       "        -0.39347975]])"
      ]
     },
     "execution_count": 95,
     "metadata": {},
     "output_type": "execute_result"
    }
   ],
   "source": [
    "model.coef_"
   ]
  },
  {
   "cell_type": "code",
   "execution_count": 98,
   "metadata": {},
   "outputs": [
    {
     "data": {
      "text/plain": [
       "array([20.09990371])"
      ]
     },
     "execution_count": 98,
     "metadata": {},
     "output_type": "execute_result"
    }
   ],
   "source": [
    "model.intercept_"
   ]
  },
  {
   "cell_type": "code",
   "execution_count": 97,
   "metadata": {},
   "outputs": [
    {
     "data": {
      "text/html": [
       "<div>\n",
       "<style scoped>\n",
       "    .dataframe tbody tr th:only-of-type {\n",
       "        vertical-align: middle;\n",
       "    }\n",
       "\n",
       "    .dataframe tbody tr th {\n",
       "        vertical-align: top;\n",
       "    }\n",
       "\n",
       "    .dataframe thead th {\n",
       "        text-align: right;\n",
       "    }\n",
       "</style>\n",
       "<table border=\"1\" class=\"dataframe\">\n",
       "  <thead>\n",
       "    <tr style=\"text-align: right;\">\n",
       "      <th></th>\n",
       "      <th>term</th>\n",
       "      <th>emp_length</th>\n",
       "      <th>mths_since_issue_d</th>\n",
       "      <th>mths_since_earliest_cr_line</th>\n",
       "      <th>mths_since_last_pymnt_d</th>\n",
       "      <th>mths_since_last_credit_pull_d</th>\n",
       "    </tr>\n",
       "  </thead>\n",
       "  <tbody>\n",
       "    <tr>\n",
       "      <th>0</th>\n",
       "      <td>0.007445</td>\n",
       "      <td>-0.025396</td>\n",
       "      <td>0.023675</td>\n",
       "      <td>-0.000912</td>\n",
       "      <td>0.074056</td>\n",
       "      <td>-0.39348</td>\n",
       "    </tr>\n",
       "  </tbody>\n",
       "</table>\n",
       "</div>"
      ],
      "text/plain": [
       "       term  emp_length  mths_since_issue_d  mths_since_earliest_cr_line  \\\n",
       "0  0.007445   -0.025396            0.023675                    -0.000912   \n",
       "\n",
       "   mths_since_last_pymnt_d  mths_since_last_credit_pull_d  \n",
       "0                 0.074056                       -0.39348  "
      ]
     },
     "execution_count": 97,
     "metadata": {},
     "output_type": "execute_result"
    }
   ],
   "source": [
    "df_coef = pd.DataFrame(model.coef_, columns=X_train.columns)\n",
    "df_coef"
   ]
  },
  {
   "cell_type": "code",
   "execution_count": 96,
   "metadata": {},
   "outputs": [
    {
     "data": {
      "text/html": [
       "<div>\n",
       "<style scoped>\n",
       "    .dataframe tbody tr th:only-of-type {\n",
       "        vertical-align: middle;\n",
       "    }\n",
       "\n",
       "    .dataframe tbody tr th {\n",
       "        vertical-align: top;\n",
       "    }\n",
       "\n",
       "    .dataframe thead th {\n",
       "        text-align: right;\n",
       "    }\n",
       "</style>\n",
       "<table border=\"1\" class=\"dataframe\">\n",
       "  <thead>\n",
       "    <tr style=\"text-align: right;\">\n",
       "      <th></th>\n",
       "      <th>term</th>\n",
       "      <th>emp_length</th>\n",
       "      <th>mths_since_issue_d</th>\n",
       "      <th>mths_since_earliest_cr_line</th>\n",
       "      <th>mths_since_last_pymnt_d</th>\n",
       "      <th>mths_since_last_credit_pull_d</th>\n",
       "    </tr>\n",
       "  </thead>\n",
       "  <tbody>\n",
       "    <tr>\n",
       "      <th>292199</th>\n",
       "      <td>36</td>\n",
       "      <td>4</td>\n",
       "      <td>98</td>\n",
       "      <td>378</td>\n",
       "      <td>85.0</td>\n",
       "      <td>81.0</td>\n",
       "    </tr>\n",
       "    <tr>\n",
       "      <th>105150</th>\n",
       "      <td>36</td>\n",
       "      <td>6</td>\n",
       "      <td>89</td>\n",
       "      <td>231</td>\n",
       "      <td>81.0</td>\n",
       "      <td>81.0</td>\n",
       "    </tr>\n",
       "    <tr>\n",
       "      <th>20468</th>\n",
       "      <td>36</td>\n",
       "      <td>1</td>\n",
       "      <td>87</td>\n",
       "      <td>131</td>\n",
       "      <td>81.0</td>\n",
       "      <td>81.0</td>\n",
       "    </tr>\n",
       "    <tr>\n",
       "      <th>51794</th>\n",
       "      <td>36</td>\n",
       "      <td>10</td>\n",
       "      <td>88</td>\n",
       "      <td>292</td>\n",
       "      <td>81.0</td>\n",
       "      <td>81.0</td>\n",
       "    </tr>\n",
       "    <tr>\n",
       "      <th>240190</th>\n",
       "      <td>36</td>\n",
       "      <td>10</td>\n",
       "      <td>97</td>\n",
       "      <td>268</td>\n",
       "      <td>81.0</td>\n",
       "      <td>81.0</td>\n",
       "    </tr>\n",
       "  </tbody>\n",
       "</table>\n",
       "</div>"
      ],
      "text/plain": [
       "        term  emp_length  mths_since_issue_d  mths_since_earliest_cr_line  \\\n",
       "292199    36           4                  98                          378   \n",
       "105150    36           6                  89                          231   \n",
       "20468     36           1                  87                          131   \n",
       "51794     36          10                  88                          292   \n",
       "240190    36          10                  97                          268   \n",
       "\n",
       "        mths_since_last_pymnt_d  mths_since_last_credit_pull_d  \n",
       "292199                     85.0                           81.0  \n",
       "105150                     81.0                           81.0  \n",
       "20468                      81.0                           81.0  \n",
       "51794                      81.0                           81.0  \n",
       "240190                     81.0                           81.0  "
      ]
     },
     "execution_count": 96,
     "metadata": {},
     "output_type": "execute_result"
    }
   ],
   "source": [
    "X_train.head()"
   ]
  },
  {
   "cell_type": "code",
   "execution_count": null,
   "metadata": {},
   "outputs": [],
   "source": []
  }
 ],
 "metadata": {
  "kernelspec": {
   "display_name": "Python 3",
   "language": "python",
   "name": "python3"
  },
  "language_info": {
   "codemirror_mode": {
    "name": "ipython",
    "version": 3
   },
   "file_extension": ".py",
   "mimetype": "text/x-python",
   "name": "python",
   "nbconvert_exporter": "python",
   "pygments_lexer": "ipython3",
   "version": "3.11.5"
  }
 },
 "nbformat": 4,
 "nbformat_minor": 2
}
